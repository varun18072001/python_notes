{
 "cells": [
  {
   "cell_type": "code",
   "execution_count": 1,
   "metadata": {},
   "outputs": [
    {
     "name": "stdout",
     "output_type": "stream",
     "text": [
      "This sentence is output to the screen\n",
      "The value of a is 5\n"
     ]
    }
   ],
   "source": [
    "print('This sentence is output to the screen')\n",
    "a=5\n",
    "print('The value of a is',a)"
   ]
  },
  {
   "cell_type": "code",
   "execution_count": 2,
   "metadata": {},
   "outputs": [
    {
     "name": "stdout",
     "output_type": "stream",
     "text": [
      "1 2 3 4\n",
      "1*2*3*4\n",
      "1#2#3#4&"
     ]
    }
   ],
   "source": [
    "print(1,2,3,4)\n",
    "print(1,2,3,4,sep='*')\n",
    "print(1,2,3,4,sep='#',end='&')"
   ]
  },
  {
   "cell_type": "code",
   "execution_count": 3,
   "metadata": {},
   "outputs": [
    {
     "name": "stdout",
     "output_type": "stream",
     "text": [
      "10 100 200 300\n",
      "10.5 150.0\n",
      "(3.14+2j) 2.0 3.14\n"
     ]
    }
   ],
   "source": [
    "a=0b1010 #Binary literal\n",
    "b=100 #Decimal literal\n",
    "c=0o310 #Octal literal\n",
    "d=0x12c #Hexadecimal literal\n",
    "#Float literal\n",
    "float_1=10.5\n",
    "float_2=1.5e2\n",
    "#complex literal\n",
    "x=3.14+2j\n",
    "print(a,b,c,d)\n",
    "print(float_1,float_2)\n",
    "print(x,x.imag,x.real)"
   ]
  },
  {
   "cell_type": "code",
   "execution_count": 4,
   "metadata": {},
   "outputs": [
    {
     "name": "stdout",
     "output_type": "stream",
     "text": [
      "5\n",
      "3.2\n",
      "hello\n"
     ]
    }
   ],
   "source": [
    "a,b,c=5,3.2,\"hello\"\n",
    "print(a);print(b);print(c);\n"
   ]
  },
  {
   "cell_type": "code",
   "execution_count": 5,
   "metadata": {},
   "outputs": [
    {
     "name": "stdout",
     "output_type": "stream",
     "text": [
      "same\n",
      "same\n",
      "same\n"
     ]
    }
   ],
   "source": [
    "x=y=z=\"same\"\n",
    "print(x);print(y);print(z)"
   ]
  },
  {
   "cell_type": "code",
   "execution_count": 6,
   "metadata": {},
   "outputs": [
    {
     "name": "stdout",
     "output_type": "stream",
     "text": [
      "x is 2\n",
      "y is 0.5\n",
      "a: 5\n",
      "b: 10\n"
     ]
    }
   ],
   "source": [
    "x=1+True\n",
    "y=.5+False\n",
    "a=True+4\n",
    "b=False+10\n",
    "print(\"x is\",x)\n",
    "print(\"y is\",y)\n",
    "print(\"a:\",a)\n",
    "print(\"b:\",b)"
   ]
  },
  {
   "cell_type": "code",
   "execution_count": 7,
   "metadata": {},
   "outputs": [
    {
     "name": "stdout",
     "output_type": "stream",
     "text": [
      "5 is of type <class 'int'>\n",
      "2.0 is of type <class 'float'>\n",
      "(1+2j) is of type <class 'complex'>\n"
     ]
    }
   ],
   "source": [
    "a=5\n",
    "print(a,\"is of type\",type(a))\n",
    "a=2.0\n",
    "print(a,\"is of type\",type(a))\n",
    "a=1+2j\n",
    "print(a,\"is of type\",type(a))"
   ]
  },
  {
   "cell_type": "code",
   "execution_count": 8,
   "metadata": {},
   "outputs": [
    {
     "name": "stdout",
     "output_type": "stream",
     "text": [
      "<class 'int'>\n",
      "datatype of num_flo: <class 'float'>\n",
      "value of num_new: 124.23\n",
      "datatype of num_new: <class 'float'>\n"
     ]
    }
   ],
   "source": [
    "num_int=123\n",
    "num_flo=1.23\n",
    "num_new=num_int+num_flo\n",
    "print(type(num_int))\n",
    "print('datatype of num_flo:',type(num_flo))\n",
    "print(\"value of num_new:\",num_new)\n",
    "print(\"datatype of num_new:\", type(num_new))"
   ]
  },
  {
   "cell_type": "code",
   "execution_count": 9,
   "metadata": {},
   "outputs": [
    {
     "name": "stdout",
     "output_type": "stream",
     "text": [
      "1-2@\n"
     ]
    }
   ],
   "source": [
    "print('1-2@')"
   ]
  },
  {
   "cell_type": "code",
   "execution_count": 10,
   "metadata": {},
   "outputs": [
    {
     "name": "stdout",
     "output_type": "stream",
     "text": [
      "x is 2\n",
      "y is 0.5\n",
      "a: 5\n",
      "b: 10\n"
     ]
    }
   ],
   "source": [
    "x=1+True\n",
    "y=.5+False\n",
    "a=True+4\n",
    "b=False+10\n",
    "print('x is',x)\n",
    "print('y is',y)\n",
    "print('a:',a)\n",
    "print('b:',b)"
   ]
  },
  {
   "cell_type": "code",
   "execution_count": 11,
   "metadata": {},
   "outputs": [
    {
     "name": "stdout",
     "output_type": "stream",
     "text": [
      "5 is of type <class 'int'>\n",
      "2.0 is of type <class 'float'>\n",
      "(1+2j) is of type <class 'complex'>\n"
     ]
    }
   ],
   "source": [
    "a=5\n",
    "print(a,'is of type',type(a))\n",
    "a=2.0\n",
    "print(a,'is of type',type(a))\n",
    "a=1+2j\n",
    "print(a,'is of type',type(a))"
   ]
  },
  {
   "cell_type": "code",
   "execution_count": 12,
   "metadata": {},
   "outputs": [
    {
     "name": "stdout",
     "output_type": "stream",
     "text": [
      "10 100 200 300\n",
      "10.5 150.0\n",
      "(3.14+2j) 2.0 3.14\n"
     ]
    }
   ],
   "source": [
    "a=0b1010 #binary literal\n",
    "b=100 #decimal literal\n",
    "c=0o310 #octal literal\n",
    "d=0x12c #hexadecimal literal\n",
    "#float literal\n",
    "float_1=10.5\n",
    "float_2=1.5e2\n",
    "#complex literal\n",
    "x=3.14+2j\n",
    "print(a,b,c,d)\n",
    "print(float_1,float_2)\n",
    "print(x,x.imag,x.real)"
   ]
  },
  {
   "cell_type": "code",
   "execution_count": 13,
   "metadata": {},
   "outputs": [
    {
     "name": "stdout",
     "output_type": "stream",
     "text": [
      "(3.14+2j)\n",
      "3.2\n",
      "hello\n"
     ]
    }
   ],
   "source": [
    "a,b,c=5,3.2,'hello'\n",
    "print(x);print(b);print(c)"
   ]
  },
  {
   "cell_type": "code",
   "execution_count": 14,
   "metadata": {},
   "outputs": [
    {
     "name": "stdout",
     "output_type": "stream",
     "text": [
      "3 4\n"
     ]
    }
   ],
   "source": [
    "a=3\n",
    "b=4\n",
    "print(a,b)"
   ]
  },
  {
   "cell_type": "code",
   "execution_count": 15,
   "metadata": {},
   "outputs": [
    {
     "name": "stdout",
     "output_type": "stream",
     "text": [
      "add of binary : 18\n",
      "avg : 6.0\n",
      "add of octal : 185\n",
      "avg : 61.666666666666664\n",
      "add hexadecimal : 174\n",
      "avg : 58.0\n",
      "add of binary,octal,hexadecimal : 193\n",
      "avg : 64.33333333333333\n"
     ]
    }
   ],
   "source": [
    "a=0b1011\n",
    "b=0b0001\n",
    "c=0b0110\n",
    "print('add of binary :',a+b+c)\n",
    "print('avg :',(a+b+c)/3)\n",
    "a=0o21\n",
    "b=0o50\n",
    "c=0o200\n",
    "print('add of octal :',a+b+c)\n",
    "print('avg :',(a+b+c)/3)\n",
    "a=0x1a\n",
    "b=0x6f\n",
    "c=0x25\n",
    "print('add hexadecimal :',a+b+c)\n",
    "print('avg :',(a+b+c)/3)\n",
    "a=0b1111\n",
    "b=0o111\n",
    "c=0x69\n",
    "print('add of binary,octal,hexadecimal :',a+b+c)\n",
    "print('avg :',(a+b+c)/3)"
   ]
  },
  {
   "cell_type": "code",
   "execution_count": 16,
   "metadata": {},
   "outputs": [
    {
     "name": "stdout",
     "output_type": "stream",
     "text": [
      "0 -0.3333333333333333\n"
     ]
    }
   ],
   "source": [
    "a=2\n",
    "b=4\n",
    "c=6\n",
    "d=a+b-c\n",
    "e=d-a/c%b\n",
    "print(d,e,)"
   ]
  },
  {
   "cell_type": "code",
   "execution_count": 17,
   "metadata": {},
   "outputs": [
    {
     "name": "stdout",
     "output_type": "stream",
     "text": [
      "0\n",
      "1\n",
      "2\n",
      "3\n",
      "4\n",
      "5\n",
      "6\n",
      "7\n",
      "8\n",
      "9\n",
      "10\n",
      "11\n",
      "12\n",
      "13\n",
      "14\n",
      "15\n",
      "16\n",
      "17\n",
      "18\n",
      "19\n",
      "20\n"
     ]
    }
   ],
   "source": [
    "for i in range(25):\n",
    "    if i>=21:\n",
    "        break\n",
    "    print(i)  \n"
   ]
  },
  {
   "cell_type": "code",
   "execution_count": 18,
   "metadata": {},
   "outputs": [
    {
     "name": "stdout",
     "output_type": "stream",
     "text": [
      "hi*yes*10*20\n"
     ]
    }
   ],
   "source": [
    "a='hi'\n",
    "b='yes'\n",
    "c=10\n",
    "d=20\n",
    "print(a,b,c,d,sep='*')"
   ]
  },
  {
   "cell_type": "code",
   "execution_count": 19,
   "metadata": {},
   "outputs": [
    {
     "name": "stdout",
     "output_type": "stream",
     "text": [
      "hihi+yesyes+10+20$$"
     ]
    }
   ],
   "source": [
    "a='hi'\n",
    "b='yes'\n",
    "c=10\n",
    "d=20\n",
    "print(a+a,b+b,c,d,sep='+',end='$$')"
   ]
  },
  {
   "cell_type": "code",
   "execution_count": 20,
   "metadata": {},
   "outputs": [
    {
     "name": "stdout",
     "output_type": "stream",
     "text": [
      "202020+101010+yeshi$$"
     ]
    }
   ],
   "source": [
    "a='hi'\n",
    "b='yes'\n",
    "c=10\n",
    "d=20\n",
    "print(d,d,d,sep='',end='+');print(c,c,c,sep='',end='+');print(b+a,end='$$')"
   ]
  },
  {
   "cell_type": "code",
   "execution_count": 21,
   "metadata": {},
   "outputs": [
    {
     "name": "stdout",
     "output_type": "stream",
     "text": [
      "20  10  hi  yes\n"
     ]
    }
   ],
   "source": [
    "a='hi'\n",
    "b='yes'\n",
    "c=10\n",
    "d=20\n",
    "print(d,c,a,b,sep='  ')"
   ]
  },
  {
   "cell_type": "code",
   "execution_count": 22,
   "metadata": {},
   "outputs": [
    {
     "name": "stdout",
     "output_type": "stream",
     "text": [
      "hi\n",
      "hello\n",
      "yes\n"
     ]
    }
   ],
   "source": [
    "print('hi');print('hello');print('yes')"
   ]
  },
  {
   "cell_type": "code",
   "execution_count": 23,
   "metadata": {},
   "outputs": [
    {
     "name": "stdout",
     "output_type": "stream",
     "text": [
      "20*2.5*3\n"
     ]
    }
   ],
   "source": [
    "print(20,2.5,3,sep='*')"
   ]
  },
  {
   "cell_type": "code",
   "execution_count": 24,
   "metadata": {},
   "outputs": [
    {
     "name": "stdout",
     "output_type": "stream",
     "text": [
      "20 2.5 3*"
     ]
    }
   ],
   "source": [
    "print(20,2.5,3,end='*')"
   ]
  },
  {
   "cell_type": "code",
   "execution_count": 25,
   "metadata": {},
   "outputs": [
    {
     "name": "stdout",
     "output_type": "stream",
     "text": [
      "hi*hello*yes$$"
     ]
    }
   ],
   "source": [
    "print('hi','hello','yes',end='$$',sep='*')"
   ]
  },
  {
   "cell_type": "code",
   "execution_count": 26,
   "metadata": {},
   "outputs": [
    {
     "name": "stdout",
     "output_type": "stream",
     "text": [
      "20#"
     ]
    }
   ],
   "source": [
    "print(20,sep='*',end='#')"
   ]
  },
  {
   "cell_type": "code",
   "execution_count": 27,
   "metadata": {},
   "outputs": [
    {
     "name": "stdout",
     "output_type": "stream",
     "text": [
      "hello\n",
      "yes\n"
     ]
    }
   ],
   "source": [
    "print('hello','yes',sep='\\n')"
   ]
  },
  {
   "cell_type": "code",
   "execution_count": 28,
   "metadata": {},
   "outputs": [
    {
     "name": "stdout",
     "output_type": "stream",
     "text": [
      "hello\n",
      "yes**"
     ]
    }
   ],
   "source": [
    "print('hello','yes',sep='\\n',end='**')"
   ]
  },
  {
   "cell_type": "code",
   "execution_count": 29,
   "metadata": {},
   "outputs": [
    {
     "name": "stdout",
     "output_type": "stream",
     "text": [
      "hello*\n",
      "hi\n"
     ]
    }
   ],
   "source": [
    "print('hello',end='*\\n')\n",
    "print('hi')"
   ]
  },
  {
   "cell_type": "code",
   "execution_count": 30,
   "metadata": {},
   "outputs": [
    {
     "name": "stdout",
     "output_type": "stream",
     "text": [
      "hello\n"
     ]
    }
   ],
   "source": [
    "'''this is a\n",
    "program'''\n",
    "print('hello')"
   ]
  },
  {
   "cell_type": "code",
   "execution_count": 31,
   "metadata": {},
   "outputs": [
    {
     "name": "stdout",
     "output_type": "stream",
     "text": [
      "hello\n",
      "this is a value\n"
     ]
    }
   ],
   "source": [
    "'''this is a\n",
    "program'''\n",
    "a=\"\"\"this is a value\"\"\"\n",
    "print('hello')                                      \n",
    "print(a)"
   ]
  },
  {
   "cell_type": "code",
   "execution_count": 32,
   "metadata": {},
   "outputs": [
    {
     "name": "stdout",
     "output_type": "stream",
     "text": [
      "6\n"
     ]
    }
   ],
   "source": [
    "a=1+2+3\n",
    "+4+5\n",
    "print(a)"
   ]
  },
  {
   "cell_type": "code",
   "execution_count": 33,
   "metadata": {},
   "outputs": [
    {
     "name": "stdout",
     "output_type": "stream",
     "text": [
      "15\n"
     ]
    }
   ],
   "source": [
    "a=1+2+3\\\n",
    "+4+5\n",
    "print(a)"
   ]
  },
  {
   "cell_type": "code",
   "execution_count": 34,
   "metadata": {},
   "outputs": [
    {
     "name": "stdout",
     "output_type": "stream",
     "text": [
      "[21]\n"
     ]
    }
   ],
   "source": [
    "a=[1+2+3\\\n",
    "   +4+5+\n",
    "   6]\n",
    "print(a)"
   ]
  },
  {
   "cell_type": "code",
   "execution_count": 35,
   "metadata": {},
   "outputs": [
    {
     "name": "stdout",
     "output_type": "stream",
     "text": [
      "{15}\n"
     ]
    }
   ],
   "source": [
    "a={1+2+3\n",
    "   +4+5}\n",
    "print(a)"
   ]
  },
  {
   "cell_type": "code",
   "execution_count": 36,
   "metadata": {},
   "outputs": [
    {
     "name": "stdout",
     "output_type": "stream",
     "text": [
      "15\n"
     ]
    }
   ],
   "source": [
    "a=(1+2+3\\\n",
    "   +4+5)\n",
    "print(a)"
   ]
  },
  {
   "cell_type": "code",
   "execution_count": 37,
   "metadata": {},
   "outputs": [
    {
     "name": "stdout",
     "output_type": "stream",
     "text": [
      "hello\n",
      "\n",
      "world\n",
      "hello\t\tworld\n",
      "hello\n",
      "\tworld\n",
      "welcome to 'python'\n",
      "welcome to \"python\"\n"
     ]
    }
   ],
   "source": [
    "print('hello\\n\\nworld')\n",
    "print('hello\\t\\tworld')\n",
    "print('hello\\n\\tworld')\n",
    "print('welcome to \\'python\\'')\n",
    "print(\"welcome to \\\"python\\\"\")"
   ]
  },
  {
   "cell_type": "code",
   "execution_count": 38,
   "metadata": {},
   "outputs": [
    {
     "name": "stdout",
     "output_type": "stream",
     "text": [
      "11,13,18,28,34,26,45,32,128,20\n"
     ]
    }
   ],
   "source": [
    "a=5\n",
    "b=3\n",
    "print(a+b+b,a+a+b,a*b+b,a*a+b,a*a+b*b,a*4+b*2,a*9,b*11-1,a*a*a+b,a*b+a,sep=',')"
   ]
  },
  {
   "cell_type": "code",
   "execution_count": 39,
   "metadata": {},
   "outputs": [
    {
     "name": "stdout",
     "output_type": "stream",
     "text": [
      "5 5 5\n"
     ]
    }
   ],
   "source": [
    "a=5\n",
    "b='yes'\n",
    "print(a,a,a)"
   ]
  },
  {
   "cell_type": "code",
   "execution_count": 40,
   "metadata": {},
   "outputs": [
    {
     "name": "stdout",
     "output_type": "stream",
     "text": [
      "yes yes\n"
     ]
    }
   ],
   "source": [
    "a=5\n",
    "b='yes'\n",
    "print(b,b)"
   ]
  },
  {
   "cell_type": "code",
   "execution_count": 41,
   "metadata": {},
   "outputs": [
    {
     "name": "stdout",
     "output_type": "stream",
     "text": [
      "5 yes 5 yes\n"
     ]
    }
   ],
   "source": [
    "a=5\n",
    "b='yes'\n",
    "print(a,b,a,b)"
   ]
  },
  {
   "cell_type": "code",
   "execution_count": 42,
   "metadata": {},
   "outputs": [
    {
     "name": "stdout",
     "output_type": "stream",
     "text": [
      "yesyes 5 5 yesyes\n"
     ]
    }
   ],
   "source": [
    "a=5\n",
    "b='yes'\n",
    "print(b+b,a,a,b+b)"
   ]
  },
  {
   "cell_type": "code",
   "execution_count": 43,
   "metadata": {},
   "outputs": [
    {
     "name": "stdout",
     "output_type": "stream",
     "text": [
      "hihiyes hello yes hi hiyeshellohelloyeshi\n"
     ]
    }
   ],
   "source": [
    "s='hi'\n",
    "s1='yes'\n",
    "s3='hello'\n",
    "print(s+s+s1,s3,s1,s,s+s1+s3+s3+s1+s)"
   ]
  },
  {
   "cell_type": "code",
   "execution_count": 44,
   "metadata": {},
   "outputs": [
    {
     "name": "stdout",
     "output_type": "stream",
     "text": [
      "4\n"
     ]
    }
   ],
   "source": [
    "a=2\n",
    "b=2.5\n",
    "c=True\n",
    "d=2+3j\n",
    "print(a+a)"
   ]
  },
  {
   "cell_type": "code",
   "execution_count": 45,
   "metadata": {},
   "outputs": [
    {
     "name": "stdout",
     "output_type": "stream",
     "text": [
      "4.5\n"
     ]
    }
   ],
   "source": [
    "a=2\n",
    "b=2.5\n",
    "c=True\n",
    "d=2+3j\n",
    "print(a+b)"
   ]
  },
  {
   "cell_type": "code",
   "execution_count": 46,
   "metadata": {},
   "outputs": [
    {
     "name": "stdout",
     "output_type": "stream",
     "text": [
      "6.5\n"
     ]
    }
   ],
   "source": [
    "a=2\n",
    "b=2.5\n",
    "c=True\n",
    "d=2+3j\n",
    "print(a+a+b)"
   ]
  },
  {
   "cell_type": "code",
   "execution_count": 47,
   "metadata": {},
   "outputs": [
    {
     "name": "stdout",
     "output_type": "stream",
     "text": [
      "(4.5+3j)\n"
     ]
    }
   ],
   "source": [
    "a=2\n",
    "b=2.5\n",
    "c=True\n",
    "d=2+3j\n",
    "print(b+d)"
   ]
  },
  {
   "cell_type": "code",
   "execution_count": 48,
   "metadata": {},
   "outputs": [
    {
     "name": "stdout",
     "output_type": "stream",
     "text": [
      "(4+3j)\n"
     ]
    }
   ],
   "source": [
    "a=2\n",
    "b=2.5\n",
    "c=True\n",
    "d=2+3j\n",
    "print(a+d)"
   ]
  },
  {
   "cell_type": "code",
   "execution_count": 49,
   "metadata": {},
   "outputs": [
    {
     "name": "stdout",
     "output_type": "stream",
     "text": [
      "3.5\n"
     ]
    }
   ],
   "source": [
    "a=2\n",
    "b=2.5\n",
    "c=True\n",
    "d=2+3j\n",
    "print(b+c)"
   ]
  },
  {
   "cell_type": "code",
   "execution_count": 50,
   "metadata": {},
   "outputs": [
    {
     "name": "stdout",
     "output_type": "stream",
     "text": [
      "3\n"
     ]
    }
   ],
   "source": [
    "a=2\n",
    "b=2.5\n",
    "c=True\n",
    "d=2+3j\n",
    "print(a+c)"
   ]
  },
  {
   "cell_type": "code",
   "execution_count": 51,
   "metadata": {},
   "outputs": [
    {
     "name": "stdout",
     "output_type": "stream",
     "text": [
      "5.5\n"
     ]
    }
   ],
   "source": [
    "a=2\n",
    "b=2.5\n",
    "c=True\n",
    "d=2+3j\n",
    "print(a+b+c)"
   ]
  },
  {
   "cell_type": "code",
   "execution_count": 52,
   "metadata": {},
   "outputs": [
    {
     "name": "stdout",
     "output_type": "stream",
     "text": [
      "510\n"
     ]
    }
   ],
   "source": [
    "a='5'\n",
    "b='10'\n",
    "c='22'\n",
    "print(a+b)"
   ]
  },
  {
   "cell_type": "code",
   "execution_count": 53,
   "metadata": {},
   "outputs": [
    {
     "name": "stdout",
     "output_type": "stream",
     "text": [
      "225\n"
     ]
    }
   ],
   "source": [
    "a='5'\n",
    "b='10'\n",
    "c='22'\n",
    "print(c+a)"
   ]
  },
  {
   "cell_type": "code",
   "execution_count": 54,
   "metadata": {},
   "outputs": [
    {
     "name": "stdout",
     "output_type": "stream",
     "text": [
      "2210\n"
     ]
    }
   ],
   "source": [
    "a='5'\n",
    "b='10'\n",
    "c='22'\n",
    "print(c+b)"
   ]
  },
  {
   "cell_type": "code",
   "execution_count": 55,
   "metadata": {},
   "outputs": [
    {
     "name": "stdout",
     "output_type": "stream",
     "text": [
      "510\n"
     ]
    }
   ],
   "source": [
    "a='5'\n",
    "b='10'\n",
    "c='22'\n",
    "print(a+b)"
   ]
  },
  {
   "cell_type": "code",
   "execution_count": 56,
   "metadata": {},
   "outputs": [
    {
     "name": "stdout",
     "output_type": "stream",
     "text": [
      "22510\n"
     ]
    }
   ],
   "source": [
    "a='5'\n",
    "b='10'\n",
    "c='22'\n",
    "print(c+a+b)"
   ]
  },
  {
   "cell_type": "code",
   "execution_count": 57,
   "metadata": {},
   "outputs": [
    {
     "name": "stdout",
     "output_type": "stream",
     "text": [
      "10522\n"
     ]
    }
   ],
   "source": [
    "a='5'\n",
    "b='10'\n",
    "c='22'\n",
    "print(b+a+c)"
   ]
  },
  {
   "cell_type": "code",
   "execution_count": 58,
   "metadata": {},
   "outputs": [
    {
     "name": "stdout",
     "output_type": "stream",
     "text": [
      "55101022\n"
     ]
    }
   ],
   "source": [
    "a='5'\n",
    "b='10'\n",
    "c='22'\n",
    "print(a+a+b+b+c)"
   ]
  },
  {
   "cell_type": "code",
   "execution_count": 59,
   "metadata": {},
   "outputs": [
    {
     "name": "stdout",
     "output_type": "stream",
     "text": [
      "hello\thello\n"
     ]
    }
   ],
   "source": [
    "print('hello\\thello')"
   ]
  },
  {
   "cell_type": "code",
   "execution_count": 60,
   "metadata": {},
   "outputs": [
    {
     "name": "stdout",
     "output_type": "stream",
     "text": [
      "10yes\n",
      "1010\n",
      "yesyes\n"
     ]
    }
   ],
   "source": [
    "a='10';b='yes'\n",
    "print(a+b);print(a+a);print(b+b)"
   ]
  },
  {
   "cell_type": "code",
   "execution_count": 61,
   "metadata": {},
   "outputs": [
    {
     "name": "stdout",
     "output_type": "stream",
     "text": [
      "1010\n",
      "<class 'str'> <class 'str'>\n",
      "20\n",
      "20.0\n",
      "(10+10j)\n",
      "2\n",
      "20.0\n",
      "(20+10j)\n",
      "11\n"
     ]
    }
   ],
   "source": [
    "a=input('enter a:') #enter 10\n",
    "b=input('enter b:') #enter 20\n",
    "print(a+b)\n",
    "print(type(a),type(b))\n",
    "print(int(a)+int(b))\n",
    "print(float(a)+float(b))\n",
    "print(complex(int(a),int(b)))\n",
    "print(bool(a)+bool(b))\n",
    "print(int(a)+float(b))\n",
    "print(complex(int(a),int(b))+int(a))\n",
    "print(int(a)+bool(b))"
   ]
  },
  {
   "cell_type": "code",
   "execution_count": 62,
   "metadata": {},
   "outputs": [
    {
     "name": "stdout",
     "output_type": "stream",
     "text": [
      "B\n",
      "d\n",
      "u\n"
     ]
    }
   ],
   "source": [
    "a=66;b=100;c=51\n",
    "print(chr(a));print(chr(b));print(chr(a+c))"
   ]
  },
  {
   "cell_type": "code",
   "execution_count": 63,
   "metadata": {},
   "outputs": [
    {
     "name": "stdout",
     "output_type": "stream",
     "text": [
      "56\n",
      "122\n",
      "42\n"
     ]
    }
   ],
   "source": [
    "a='8';b='z';c='*'\n",
    "print(ord(a));print(ord(b));print(ord(c))"
   ]
  },
  {
   "cell_type": "code",
   "execution_count": 64,
   "metadata": {},
   "outputs": [
    {
     "name": "stdout",
     "output_type": "stream",
     "text": [
      "2.5\n"
     ]
    },
    {
     "ename": "ValueError",
     "evalue": "invalid literal for int() with base 10: '2a'",
     "output_type": "error",
     "traceback": [
      "\u001b[1;31m---------------------------------------------------------------------------\u001b[0m",
      "\u001b[1;31mValueError\u001b[0m                                Traceback (most recent call last)",
      "\u001b[1;32mc:\\Users\\Varun K S\\Downloads\\day2 python assignment-1.ipynb Cell 64\u001b[0m line \u001b[0;36m3\n\u001b[0;32m      <a href='vscode-notebook-cell:/c%3A/Users/Varun%20K%20S/Downloads/day2%20python%20assignment-1.ipynb#Y120sZmlsZQ%3D%3D?line=0'>1</a>\u001b[0m a\u001b[39m=\u001b[39m\u001b[39m'\u001b[39m\u001b[39m2.5\u001b[39m\u001b[39m'\u001b[39m\n\u001b[0;32m      <a href='vscode-notebook-cell:/c%3A/Users/Varun%20K%20S/Downloads/day2%20python%20assignment-1.ipynb#Y120sZmlsZQ%3D%3D?line=1'>2</a>\u001b[0m b\u001b[39m=\u001b[39m\u001b[39m'\u001b[39m\u001b[39m2a\u001b[39m\u001b[39m'\u001b[39m\n\u001b[1;32m----> <a href='vscode-notebook-cell:/c%3A/Users/Varun%20K%20S/Downloads/day2%20python%20assignment-1.ipynb#Y120sZmlsZQ%3D%3D?line=2'>3</a>\u001b[0m \u001b[39mprint\u001b[39m(\u001b[39mfloat\u001b[39m(a));\u001b[39mprint\u001b[39m(\u001b[39mint\u001b[39m(b));\u001b[39mprint\u001b[39m(\u001b[39mint\u001b[39m(a))\n",
      "\u001b[1;31mValueError\u001b[0m: invalid literal for int() with base 10: '2a'"
     ]
    }
   ],
   "source": [
    "a='2.5'\n",
    "b='2a'\n",
    "print(float(a));print(int(b));print(int(a))"
   ]
  },
  {
   "cell_type": "code",
   "execution_count": null,
   "metadata": {},
   "outputs": [],
   "source": [
    "a=14\n",
    "print(bin(a));print(oct(a));print(hex(a))"
   ]
  },
  {
   "cell_type": "code",
   "execution_count": null,
   "metadata": {},
   "outputs": [],
   "source": [
    "a=0b1010;b=0o14\n",
    "print(int(a));print(oct(a));print(hex(a))\n",
    "print(int(b));print(bin(b));print(hex(b))"
   ]
  },
  {
   "cell_type": "code",
   "execution_count": null,
   "metadata": {},
   "outputs": [],
   "source": [
    "a=input('enter a:') # enter 10\n",
    "b=input('enter b:') # enter 20\n",
    "c=input('input c:') # enter 30\n",
    "print(a+b+c)\n",
    "print(int(a)+int(b)+int(c))\n",
    "print(float(a)+int(b)+int(c))\n",
    "print(int(b)/int(a))\n",
    "print(int(c)/int(a))\n",
    "print(bool(a)+int(c))\n",
    "print(int(c)+complex(10+20j))\n",
    "print(bool(c)+float(c))"
   ]
  },
  {
   "cell_type": "code",
   "execution_count": null,
   "metadata": {},
   "outputs": [],
   "source": [
    "a=input() # enter 10\n",
    "b=input() # enter 20\n",
    "print(a+b)\n",
    "print(int(a)+int(b))\n",
    "print(a+b)"
   ]
  },
  {
   "cell_type": "code",
   "execution_count": null,
   "metadata": {},
   "outputs": [],
   "source": [
    "a=input('') # enter 10\n",
    "b=input('') # enter 20\n",
    "print(a,b,sep=('*'))\n",
    "print(a);print(b)"
   ]
  },
  {
   "cell_type": "code",
   "execution_count": null,
   "metadata": {},
   "outputs": [],
   "source": [
    "a='5';b='6'\n",
    "print(int(a),int(b),sep='$')\n",
    "print(int(a),int(b))\n",
    "print(int(a)+int(b))"
   ]
  },
  {
   "cell_type": "code",
   "execution_count": null,
   "metadata": {},
   "outputs": [],
   "source": [
    "a='hi'\n",
    "b='yes'\n",
    "c='hello'\n",
    "d='world'\n",
    "print(a,b,c)\n",
    "print(a);print('123');print('45@12hi')\n",
    "print(a,b,c,d,sep='**')\n",
    "print(a,b,sep='**',end='***'),print(d)"
   ]
  },
  {
   "cell_type": "code",
   "execution_count": null,
   "metadata": {},
   "outputs": [],
   "source": [
    "a=int(input()) # enter an integer\n",
    "b=int(input()) # enter a string\n",
    "print(a+b)"
   ]
  },
  {
   "cell_type": "code",
   "execution_count": null,
   "metadata": {},
   "outputs": [],
   "source": [
    "a='12'\n",
    "b='45'\n",
    "print(float(a),float(b),sep='|')\n",
    "print(float(a),float(b))\n",
    "print(float(a)+float(b))"
   ]
  },
  {
   "cell_type": "code",
   "execution_count": null,
   "metadata": {},
   "outputs": [],
   "source": [
    "s1=input()\n",
    "s2=input()\n",
    "s3=input()\n",
    "m1=int(input())\n",
    "m2=int(input())\n",
    "m3=int(input())\n",
    "print('name of student 1 = %s'%s1,'marks = %i'%m1, sep=' and ')\n",
    "print('name of student 2 = %s'%s2,'marks = %i'%m2, sep=' and ')\n",
    "print('name of student 3 = %s'%s3,'marks = %i'%m3, sep=' and ')\n",
    "print('name of student 1 = {} and marks = {}'.format(s1,m1))\n",
    "print('name of student 2 = {} and marks = {}'.format(s2,m2))\n",
    "print('name of student 3 = {} and marks = {}'.format(s3,m3))"
   ]
  },
  {
   "cell_type": "code",
   "execution_count": null,
   "metadata": {},
   "outputs": [],
   "source": [
    "a=3.45678\n",
    "print('%.4f'%a)\n",
    "print('%.3f'%a)\n",
    "print('%.2f'%a)\n",
    "print('%.1f'%a)\n",
    "print('%.f'%a)\n",
    "print(round(a,4))\n",
    "print(round(a,3))\n",
    "print(round(a,2))\n",
    "print(round(a,1))\n",
    "print(round(a))"
   ]
  },
  {
   "cell_type": "code",
   "execution_count": null,
   "metadata": {},
   "outputs": [],
   "source": [
    "num=13\n",
    "print(num)\n",
    "print('%x'%num)\n",
    "print(num+2)\n",
    "print(float(num))\n",
    "print('%X'%num)\n",
    "print(hex(num))\n",
    "print('%#X'%num)\n",
    "print(oct(num))"
   ]
  },
  {
   "cell_type": "code",
   "execution_count": null,
   "metadata": {},
   "outputs": [],
   "source": [
    "print(eval('10')+eval('2.5'))"
   ]
  },
  {
   "cell_type": "code",
   "execution_count": null,
   "metadata": {},
   "outputs": [],
   "source": [
    "print(eval(5+eval('20'))+eval('35'))"
   ]
  },
  {
   "cell_type": "code",
   "execution_count": null,
   "metadata": {},
   "outputs": [],
   "source": [
    "print(eval(\"5+eval('20')\")+eval('35'))"
   ]
  },
  {
   "cell_type": "code",
   "execution_count": null,
   "metadata": {},
   "outputs": [],
   "source": [
    "print(eval(str(5+eval('20')))+eval('35'))"
   ]
  },
  {
   "cell_type": "code",
   "execution_count": null,
   "metadata": {},
   "outputs": [],
   "source": [
    "print(eval('2+3')+eval('23'))"
   ]
  },
  {
   "cell_type": "code",
   "execution_count": null,
   "metadata": {},
   "outputs": [],
   "source": [
    "a=20\n",
    "b=int('20')\n",
    "id(a)==id(b)"
   ]
  },
  {
   "cell_type": "code",
   "execution_count": null,
   "metadata": {},
   "outputs": [],
   "source": [
    "a=10\n",
    "b=5\n",
    "a='H'\n",
    "b=\"H\"\n",
    "id(a)==id(b)"
   ]
  },
  {
   "cell_type": "code",
   "execution_count": null,
   "metadata": {},
   "outputs": [],
   "source": [
    "a=max\n",
    "b=10\n",
    "print(a,b)"
   ]
  },
  {
   "cell_type": "code",
   "execution_count": null,
   "metadata": {},
   "outputs": [],
   "source": [
    "myvar=\"John\";my_var=\"John\"\n",
    "_my_var='John';myVar=\"John\"\n",
    "MYVAR=\"John\";myvar2=\"John\"\n",
    "2myvar=\"John\";my-var=\"John\";my var=\"John\""
   ]
  },
  {
   "cell_type": "code",
   "execution_count": null,
   "metadata": {},
   "outputs": [],
   "source": [
    "a=\"hello\"\n",
    "A=\"world\"\n",
    "chr=\"apple\"\n",
    "CHR=\"123\"\n",
    "abc_123=10\n",
    "ABC_123=\"\"\"hello\"\"\"\n",
    "AdditionOf=2+3\n",
    "NewData='bigdata'\n",
    "Name='varun.k.s'\n",
    "___CITY___='BangaLore'\n",
    "print(a,A,chr,CHR,abc_123,ABC_123,AdditionOf,NewData,Name,___CITY___)"
   ]
  },
  {
   "cell_type": "code",
   "execution_count": null,
   "metadata": {},
   "outputs": [],
   "source": [
    "a=10\n",
    "max=10\n",
    "print(a,max)"
   ]
  },
  {
   "cell_type": "code",
   "execution_count": null,
   "metadata": {},
   "outputs": [],
   "source": [
    "d=4+5"
   ]
  },
  {
   "cell_type": "code",
   "execution_count": null,
   "metadata": {},
   "outputs": [],
   "source": [
    "print(format(24.893952,'.3f'))"
   ]
  },
  {
   "cell_type": "code",
   "execution_count": null,
   "metadata": {},
   "outputs": [],
   "source": [
    "result = 25.6789  # Consider 'result' as the variable with the floating-point value\n",
    "\n",
    "formatted_result = \"{:.3f}\".format(result)\n",
    "print(formatted_result)\n"
   ]
  },
  {
   "cell_type": "code",
   "execution_count": null,
   "metadata": {},
   "outputs": [],
   "source": [
    "result=25.6789\n",
    "print('%.3f'%result)"
   ]
  },
  {
   "cell_type": "code",
   "execution_count": null,
   "metadata": {},
   "outputs": [],
   "source": [
    "num=0\n",
    "k=5\n",
    "num1=num+k*2\n",
    "num2=num+k*2\n",
    "id(num1),id(num2)"
   ]
  },
  {
   "cell_type": "code",
   "execution_count": null,
   "metadata": {},
   "outputs": [],
   "source": [
    "print(0b1101011); print(0xFB + 0b10); print(0o15)"
   ]
  },
  {
   "cell_type": "code",
   "execution_count": null,
   "metadata": {},
   "outputs": [],
   "source": [
    "a=5;b=5;print(id(a)==id(b))"
   ]
  },
  {
   "cell_type": "code",
   "execution_count": null,
   "metadata": {},
   "outputs": [],
   "source": [
    "str='python by {2}, c++ by{1}, java by{0}'.format('''gosling''','stroustrup',\"rossum\")\n",
    "print(str)"
   ]
  },
  {
   "cell_type": "code",
   "execution_count": null,
   "metadata": {},
   "outputs": [],
   "source": [
    "str='{a} is {}'.format('great',a='guido');print(str)"
   ]
  },
  {
   "cell_type": "code",
   "execution_count": null,
   "metadata": {},
   "outputs": [],
   "source": [
    "a=2.4562375\n",
    "print(format(a,'.2f')); print(format(a,'.4f'))"
   ]
  },
  {
   "cell_type": "code",
   "execution_count": null,
   "metadata": {},
   "outputs": [],
   "source": [
    "a='2+3';print(a);print(eval(a))"
   ]
  },
  {
   "cell_type": "code",
   "execution_count": null,
   "metadata": {},
   "outputs": [],
   "source": [
    "b=\"2+3-1\";print(b);print(eval(b))"
   ]
  },
  {
   "cell_type": "code",
   "execution_count": null,
   "metadata": {},
   "outputs": [],
   "source": [
    "a='2+3';b='2+1+2';print(eval(a)==eval(b))"
   ]
  },
  {
   "cell_type": "code",
   "execution_count": null,
   "metadata": {},
   "outputs": [],
   "source": [
    "a=eval(input())\n",
    "b=eval(input())\n",
    "print(a);print(type(a));print(b);print(type(b))"
   ]
  },
  {
   "cell_type": "code",
   "execution_count": null,
   "metadata": {},
   "outputs": [],
   "source": [
    "a=input('enter:').split()\n",
    "print(a);print(type(a))"
   ]
  },
  {
   "cell_type": "code",
   "execution_count": null,
   "metadata": {},
   "outputs": [],
   "source": [
    "a,b,c=input('enter:').split()\n",
    "print(a,b,c)"
   ]
  },
  {
   "cell_type": "code",
   "execution_count": null,
   "metadata": {},
   "outputs": [],
   "source": [
    "print(\"he said \\n'what's there?'\")"
   ]
  },
  {
   "cell_type": "code",
   "execution_count": null,
   "metadata": {},
   "outputs": [],
   "source": [
    "a=2;print('id(a)=',id(a))\n",
    "a=2+1;print('id(a)=',id(a)); print('id(3)=',id(3))\n",
    "b=2; print('id(2)=',id(2))"
   ]
  },
  {
   "cell_type": "code",
   "execution_count": null,
   "metadata": {},
   "outputs": [],
   "source": [
    "x=1;y=35656222554887711;z=-3255522\n",
    "print(type(x));print(type(y));print(type(z))\n",
    "x=1.10;y=1.0;z=-35.59;print(type(x));print(type(y))\n",
    "print(type(z))"
   ]
  },
  {
   "cell_type": "code",
   "execution_count": null,
   "metadata": {},
   "outputs": [],
   "source": [
    "x=10000000000000000000; x=x+1\n",
    "print(x)"
   ]
  },
  {
   "cell_type": "code",
   "execution_count": null,
   "metadata": {},
   "outputs": [],
   "source": [
    "a=int(input())\n",
    "b=int(input())\n",
    "c=int(input())\n",
    "print((a+b)>c) and (b<c)\n",
    "print((a and b) or (a+ (not b)))\n",
    "print((a+b+c) and (a<=b))\n",
    "print(a and b or c)\n",
    "print((a +b) or (not c) and (b+c))"
   ]
  },
  {
   "cell_type": "code",
   "execution_count": null,
   "metadata": {},
   "outputs": [],
   "source": [
    "a=5;b=True;c=2.5\n",
    "print((a+b)>=(a+c))\n",
    "print((a+2*c)==3+c)\n",
    "print((a+b+c)<=(a*2))\n",
    "print((a+c)>=(3*b))\n",
    "print((a*4+c)!=(5*c))"
   ]
  },
  {
   "cell_type": "code",
   "execution_count": null,
   "metadata": {},
   "outputs": [],
   "source": [
    "a=10;b=2;c=3;d=4\n",
    "a+=b*c/d\n",
    "print(a)\n",
    "a=10;b=2;c=3;d=4\n",
    "b+=a//b+c\n",
    "print(int(b))\n",
    "a=10;b=2;c=3;d=4\n",
    "a*=b*c+(d+5)\n",
    "print(a)\n",
    "a=10;b=2;c=3;d=4\n",
    "a//=b+c+(d*3)\n",
    "print(int(a))\n",
    "a=10;b=2;c=3;d=4\n",
    "a%=(c+d)+4*2\n",
    "print(int(a))"
   ]
  },
  {
   "cell_type": "code",
   "execution_count": null,
   "metadata": {},
   "outputs": [],
   "source": [
    "a=10;b=2;c=3;d=4\n",
    "a+=b*c/d\n",
    "print(a)"
   ]
  },
  {
   "cell_type": "code",
   "execution_count": null,
   "metadata": {},
   "outputs": [],
   "source": [
    "a=10;b=2;c=3;d=4\n",
    "b+=a//b+c\n",
    "print(b)"
   ]
  },
  {
   "cell_type": "code",
   "execution_count": null,
   "metadata": {},
   "outputs": [],
   "source": [
    "a=10;b=2;c=3;d=4\n",
    "a*=b*c+(d+5)\n",
    "print(a)"
   ]
  },
  {
   "cell_type": "code",
   "execution_count": null,
   "metadata": {},
   "outputs": [],
   "source": [
    "a=10;b=2;c=3;d=4\n",
    "a//=b+c+(d*3)\n",
    "print(a)"
   ]
  },
  {
   "cell_type": "code",
   "execution_count": null,
   "metadata": {},
   "outputs": [],
   "source": [
    "a=10;b=2;c=3;d=4\n",
    "a%=(c+d)+4*2\n",
    "print(a)"
   ]
  },
  {
   "cell_type": "code",
   "execution_count": 28,
   "metadata": {},
   "outputs": [
    {
     "name": "stdout",
     "output_type": "stream",
     "text": [
      "False\n",
      "20\n",
      "True\n",
      "20\n",
      "30\n"
     ]
    }
   ],
   "source": [
    "a,b,c=input('enter 3 integers:').split(',')\n",
    "a=int(a);b=int(b);c=int(c)\n",
    "print((a+b)>c) and (b<c)\n",
    "print((a and b) or (a+ (not b)))\n",
    "print((a+b+c) and (a<=b))\n",
    "print(a and b or c)\n",
    "print((a +b) or (not c) and (b+c))"
   ]
  },
  {
   "cell_type": "markdown",
   "metadata": {},
   "source": [
    "7-11-23"
   ]
  },
  {
   "cell_type": "code",
   "execution_count": null,
   "metadata": {},
   "outputs": [],
   "source": [
    "x=15;y=4\n",
    "print('x+y=',x+y);print('x-y=',x-y);print('x*y=',x*y)\n",
    "print('x/y=',x/y);print('x//y=',x//y);print('x**y=',x**y)"
   ]
  },
  {
   "cell_type": "code",
   "execution_count": null,
   "metadata": {},
   "outputs": [],
   "source": [
    "a=True;b=False\n",
    "print('AND Logic :')\n",
    "print('a and a =',a and a)\n",
    "print('a and b =', a and b)\n",
    "print('\\nOR Logic :')\n",
    "print('a or a =',a or a)\n",
    "print('a or b =',a or b)\n",
    "print('\\nNOT Logic :')\n",
    "print('a = b',a,'\\tnot a =',not a)\n",
    "print('b =',b,'\\tnot b=',not b)"
   ]
  },
  {
   "cell_type": "code",
   "execution_count": null,
   "metadata": {},
   "outputs": [],
   "source": [
    "a=input()\n",
    "b=input()\n",
    "sum=a+b\n",
    "print(type(sum))\n",
    "sum=int(a)+int(b)\n",
    "print(type(sum))\n",
    "sum=float(sum)\n",
    "print(type(sum))\n",
    "sum=chr(int(sum))\n",
    "print(type(sum))"
   ]
  },
  {
   "cell_type": "code",
   "execution_count": null,
   "metadata": {},
   "outputs": [],
   "source": [
    "10==20"
   ]
  },
  {
   "cell_type": "code",
   "execution_count": null,
   "metadata": {},
   "outputs": [],
   "source": [
    "'2'<'9'"
   ]
  },
  {
   "cell_type": "code",
   "execution_count": null,
   "metadata": {},
   "outputs": [],
   "source": [
    "'hello'=='hello'"
   ]
  },
  {
   "cell_type": "code",
   "execution_count": null,
   "metadata": {},
   "outputs": [],
   "source": [
    "'Hello'=='Zeebra'"
   ]
  },
  {
   "cell_type": "code",
   "execution_count": null,
   "metadata": {},
   "outputs": [],
   "source": [
    "'Hello'=='hello'"
   ]
  },
  {
   "cell_type": "code",
   "execution_count": null,
   "metadata": {},
   "outputs": [],
   "source": [
    "10!=20"
   ]
  },
  {
   "cell_type": "code",
   "execution_count": null,
   "metadata": {},
   "outputs": [],
   "source": [
    "'12'<'9'"
   ]
  },
  {
   "cell_type": "code",
   "execution_count": null,
   "metadata": {},
   "outputs": [],
   "source": [
    "10<=20"
   ]
  },
  {
   "cell_type": "code",
   "execution_count": null,
   "metadata": {},
   "outputs": [],
   "source": [
    "'12'>'9'"
   ]
  },
  {
   "cell_type": "code",
   "execution_count": null,
   "metadata": {},
   "outputs": [],
   "source": [
    "True and False"
   ]
  },
  {
   "cell_type": "code",
   "execution_count": null,
   "metadata": {},
   "outputs": [],
   "source": [
    "True or False "
   ]
  },
  {
   "cell_type": "code",
   "execution_count": null,
   "metadata": {},
   "outputs": [],
   "source": [
    "not(True) and False"
   ]
  },
  {
   "cell_type": "code",
   "execution_count": null,
   "metadata": {},
   "outputs": [],
   "source": [
    "not(True and False)"
   ]
  },
  {
   "cell_type": "code",
   "execution_count": null,
   "metadata": {},
   "outputs": [],
   "source": [
    "(10<0)and(10<2)"
   ]
  },
  {
   "cell_type": "code",
   "execution_count": null,
   "metadata": {},
   "outputs": [],
   "source": [
    "num1=10;num2=20;num3=30\n",
    "not(num1<1) and num2<10"
   ]
  },
  {
   "cell_type": "code",
   "execution_count": null,
   "metadata": {},
   "outputs": [],
   "source": [
    "print(x or False)\n",
    "print(x and True)\n",
    "print(not(x or False))\n",
    "print(not(x and False))"
   ]
  },
  {
   "cell_type": "code",
   "execution_count": null,
   "metadata": {},
   "outputs": [],
   "source": [
    "x and True"
   ]
  },
  {
   "cell_type": "code",
   "execution_count": null,
   "metadata": {},
   "outputs": [],
   "source": [
    "not(x or False)"
   ]
  },
  {
   "cell_type": "code",
   "execution_count": null,
   "metadata": {},
   "outputs": [],
   "source": [
    "not(x and False)"
   ]
  },
  {
   "cell_type": "code",
   "execution_count": null,
   "metadata": {},
   "outputs": [],
   "source": [
    "not(10<0)"
   ]
  },
  {
   "cell_type": "code",
   "execution_count": null,
   "metadata": {},
   "outputs": [],
   "source": [
    "oct(10)"
   ]
  },
  {
   "cell_type": "code",
   "execution_count": null,
   "metadata": {},
   "outputs": [],
   "source": [
    "f=2.56789\n",
    "print('%1f'%f)"
   ]
  },
  {
   "cell_type": "code",
   "execution_count": null,
   "metadata": {},
   "outputs": [],
   "source": [
    "a=10;b=4\n",
    "print(a<<2 & b<<3)\n",
    "print((a|2) & (b|3))\n",
    "print(a>>2 | b<<2)\n",
    "print(a&2 | b<<2)"
   ]
  },
  {
   "cell_type": "code",
   "execution_count": null,
   "metadata": {},
   "outputs": [],
   "source": [
    "a=4;b=2\n",
    "print(~a and ~b)\n",
    "print((not ~a) or not ~b)\n",
    "print(~a/b)\n",
    "print(~(a<<2 & b <<3))"
   ]
  },
  {
   "cell_type": "code",
   "execution_count": null,
   "metadata": {},
   "outputs": [],
   "source": [
    "a=13\n",
    "b=33\n",
    "print(a>b)\n",
    "print(a<b)\n",
    "print(a==b)\n",
    "print(a!=b)\n",
    "print(a>=b)\n",
    "print(a<=b)"
   ]
  },
  {
   "cell_type": "code",
   "execution_count": null,
   "metadata": {},
   "outputs": [],
   "source": [
    "a=True;b=False\n",
    "print(a and b)\n",
    "print(a or b)\n",
    "print(not a)"
   ]
  },
  {
   "cell_type": "code",
   "execution_count": null,
   "metadata": {},
   "outputs": [],
   "source": [
    "a=10;b=4\n",
    "print(a & b)\n",
    "print(a | b)\n",
    "print(~a)\n",
    "print(a ^ b)\n",
    "print(a >> 2)\n",
    "print(a << 2)"
   ]
  },
  {
   "cell_type": "code",
   "execution_count": null,
   "metadata": {},
   "outputs": [],
   "source": [
    "a=10\n",
    "b=a\n",
    "print(b)\n",
    "b += a\n",
    "print(b)\n",
    "b -= a\n",
    "print(b)\n",
    "b *= a\n",
    "print(b)\n",
    "b << 2\n",
    "print(b)"
   ]
  },
  {
   "cell_type": "code",
   "execution_count": null,
   "metadata": {},
   "outputs": [],
   "source": [
    "a=10;b=a;c=a\n",
    "print(a is not b)\n",
    "print(a is c)"
   ]
  },
  {
   "cell_type": "code",
   "execution_count": null,
   "metadata": {},
   "outputs": [],
   "source": [
    "print(100 / 10 * 10)\n",
    "print(5 - 2 + 3)"
   ]
  },
  {
   "cell_type": "code",
   "execution_count": null,
   "metadata": {},
   "outputs": [],
   "source": [
    "x1=5;y1=5\n",
    "x2='Hello';y2='Hello'\n",
    "x3=[1,2,3];y3=[1,2,3]\n",
    "print(x1 is not y1)\n",
    "print(x2 is y2)\n",
    "print(x3 is y3)"
   ]
  },
  {
   "cell_type": "code",
   "execution_count": null,
   "metadata": {},
   "outputs": [],
   "source": [
    "x='Hello world' \n",
    "print('H' in x)\n",
    "print('hello' not in x)"
   ]
  },
  {
   "cell_type": "code",
   "execution_count": null,
   "metadata": {},
   "outputs": [],
   "source": [
    "print(10 / 4)\n",
    "print(10 // 4)\n",
    "print(-10 // 4)"
   ]
  },
  {
   "cell_type": "code",
   "execution_count": null,
   "metadata": {},
   "outputs": [],
   "source": [
    "x=1.1+2.2\n",
    "print(x==3.3)\n",
    "print(x-3.3)"
   ]
  },
  {
   "cell_type": "code",
   "execution_count": null,
   "metadata": {},
   "outputs": [],
   "source": [
    "x=3;y=4\n",
    "print(x or y)\n",
    "x=0.0;y=4.4\n",
    "print(x or y)\n",
    "x=3;y=4\n",
    "print(x and y)\n",
    "x=0.0;y=4.4\n",
    "print(x and y)"
   ]
  },
  {
   "cell_type": "code",
   "execution_count": null,
   "metadata": {},
   "outputs": [],
   "source": [
    "x=1;y=2;z=3\n",
    "print(x<y<=z)\n",
    "print(x<y and y<=z)"
   ]
  },
  {
   "cell_type": "code",
   "execution_count": null,
   "metadata": {},
   "outputs": [],
   "source": [
    "~10"
   ]
  },
  {
   "cell_type": "code",
   "execution_count": null,
   "metadata": {},
   "outputs": [],
   "source": [
    "my_list=[1,2,3,'a','b']\n",
    "print(my_list[2])\n",
    "print(my_list[1:4])"
   ]
  },
  {
   "cell_type": "code",
   "execution_count": null,
   "metadata": {},
   "outputs": [],
   "source": [
    "pi=3.14159\n",
    "print('the value of pi is {:.2f}'.format(pi))"
   ]
  },
  {
   "cell_type": "code",
   "execution_count": null,
   "metadata": {},
   "outputs": [],
   "source": [
    "a=2\n",
    "a+=3\n",
    "print(a)"
   ]
  },
  {
   "cell_type": "code",
   "execution_count": null,
   "metadata": {},
   "outputs": [],
   "source": [
    "a=10\n",
    "print(a/4)\n",
    "print(a//4)"
   ]
  },
  {
   "cell_type": "code",
   "execution_count": 26,
   "metadata": {},
   "outputs": [
    {
     "name": "stdout",
     "output_type": "stream",
     "text": [
      "num is not div by 5 and 3\n"
     ]
    }
   ],
   "source": [
    "num=int(input())\n",
    "if(num%5==0 or num%3==0):\n",
    "    print('num is div by 5 or 3')\n",
    "else:\n",
    "    print('num is not div by 5 and 3')"
   ]
  },
  {
   "cell_type": "code",
   "execution_count": null,
   "metadata": {},
   "outputs": [],
   "source": [
    "num=int(input())\n",
    "if num>=0:\n",
    "    print('num is +ve')\n",
    "else:\n",
    "    print('num is 0')    "
   ]
  },
  {
   "cell_type": "code",
   "execution_count": null,
   "metadata": {},
   "outputs": [],
   "source": [
    "char=input() # enter a character\n",
    "if ord(char)>=65 and ord(char)<=90:\n",
    "    print('char is uppercase')\n",
    "else:\n",
    "    print('char is lowercase')"
   ]
  },
  {
   "cell_type": "code",
   "execution_count": null,
   "metadata": {},
   "outputs": [],
   "source": [
    "char=input()\n",
    "if ord(char)>=48 and ord(char)<=57:\n",
    "    print('char is digit')\n",
    "else:\n",
    "    print('char is not a digit')"
   ]
  },
  {
   "cell_type": "code",
   "execution_count": null,
   "metadata": {},
   "outputs": [],
   "source": [
    "char=input()\n",
    "if (ord(char)>=65 and ord(char)<=90) or (ord(char)>=97 and ord(char)<=122):\n",
    "    print('valid letter')\n",
    "else:\n",
    "    print('not a valid letter')"
   ]
  },
  {
   "cell_type": "code",
   "execution_count": null,
   "metadata": {},
   "outputs": [],
   "source": [
    "a=int(input())\n",
    "b=int(input())\n",
    "if a+b>2*a:\n",
    "    print('first')"
   ]
  },
  {
   "cell_type": "code",
   "execution_count": null,
   "metadata": {},
   "outputs": [],
   "source": [
    "num=int(input())\n",
    "if num/2 or num/3 or num/5:\n",
    "    print('div by 2,3 & 4')\n",
    "else:\n",
    "    print('not div by all')"
   ]
  },
  {
   "cell_type": "code",
   "execution_count": null,
   "metadata": {},
   "outputs": [],
   "source": [
    "a=int(input())\n",
    "b=int(input())\n",
    "c=int(input())\n",
    "d=int(input())\n",
    "if a%b==0 and a%c==0:\n",
    "    print('{a} is div by {b} and {c}')\n",
    "else:\n",
    "    print('not')\n",
    "if (a+b)%c==0:\n",
    "    print('is div')\n",
    "else:\n",
    "    print('not')\n",
    "if (a*b*c)%d==0:\n",
    "    print('is div')\n",
    "else:\n",
    "    print('not')"
   ]
  },
  {
   "cell_type": "code",
   "execution_count": null,
   "metadata": {},
   "outputs": [],
   "source": [
    "a=int(input())\n",
    "b=int(input())\n",
    "c=int(input())\n",
    "if a<0 and b<0 and c<0:\n",
    "    print('-ve')\n",
    "else: print('+ve')"
   ]
  },
  {
   "cell_type": "code",
   "execution_count": null,
   "metadata": {},
   "outputs": [],
   "source": [
    "a=int(input())\n",
    "b=int(input())\n",
    "c=int(input())\n",
    "if a!=0 and b!=0 and c!=0:\n",
    "    print('non zero')\n",
    "else:\n",
    "    print('not')"
   ]
  },
  {
   "cell_type": "code",
   "execution_count": null,
   "metadata": {},
   "outputs": [],
   "source": [
    "num=int(input())\n",
    "if (chr(num%2))>=65 and (chr(num%2)<=s122):\n",
    "    print('even number')\n",
    "    if (chr(num>=65) or chr(num<=122)):\n",
    "        print('valid ASCII letter')\n",
    "    else:\n",
    "        print('not valid')\n",
    "else:\n",
    "    print('not even')"
   ]
  },
  {
   "cell_type": "code",
   "execution_count": null,
   "metadata": {},
   "outputs": [],
   "source": [
    "num=int(input())\n",
    "a=num%2==0\n",
    "print('num is a even number')\n",
    "if num>=65 and num<=122:\n",
    "    print('even number between 65-122')\n",
    "    if (num>=65 and num<=90) or (num>=97 and num<=122):\n",
    "        print('valid ASCII')\n",
    "    else: print('not valid')\n",
    "else: print('not')"
   ]
  },
  {
   "cell_type": "code",
   "execution_count": null,
   "metadata": {},
   "outputs": [],
   "source": [
    "a=input()\n",
    "b=input()\n",
    "c=input()\n",
    "if a>b and a>c:\n",
    "    print('a')\n",
    "else:\n",
    "    if b>c and b>a:\n",
    "        print('b')\n",
    "        if c>a and c>b:\n",
    "            print('c')\n",
    "    else: print('none')"
   ]
  },
  {
   "cell_type": "code",
   "execution_count": 21,
   "metadata": {},
   "outputs": [
    {
     "name": "stdout",
     "output_type": "stream",
     "text": [
      "not uppercase\n"
     ]
    }
   ],
   "source": [
    "char=input()\n",
    "if ord(char)>=65 and ord(char)<=90:\n",
    "    print('CHAR IS UPPERCASE')\n",
    "else:\n",
    "    print('not uppercase')"
   ]
  },
  {
   "cell_type": "code",
   "execution_count": null,
   "metadata": {},
   "outputs": [],
   "source": [
    "num1=int(input())\n",
    "num2=int(input())\n",
    "num3=int(input())\n",
    "num=num1+num2\n",
    "if num>num3:\n",
    "    print('yes')\n",
    "else: print('no')"
   ]
  },
  {
   "cell_type": "code",
   "execution_count": null,
   "metadata": {},
   "outputs": [],
   "source": [
    "num=0\n",
    "while(num<=8):\n",
    "    if(num%2==0):\n",
    "        print(num,end=' ')\n",
    "    num+=1"
   ]
  },
  {
   "cell_type": "code",
   "execution_count": null,
   "metadata": {},
   "outputs": [],
   "source": [
    "num=0\n",
    "esum=0\n",
    "osum=0\n",
    "while(num<=5):\n",
    "    if(num%2==0):\n",
    "        esum+=num\n",
    "    else:\n",
    "        osum+=num\n",
    "    num+=1\n",
    "print(esum,osum)"
   ]
  },
  {
   "cell_type": "code",
   "execution_count": 46,
   "metadata": {},
   "outputs": [
    {
     "name": "stdout",
     "output_type": "stream",
     "text": [
      "3125 1 3 9 27 81 "
     ]
    }
   ],
   "source": [
    "num=int(input())\n",
    "n=0\n",
    "while(n<=5):\n",
    "    print(a,end=' ')\n",
    "    a=num**n\n",
    "    n+=1"
   ]
  },
  {
   "cell_type": "code",
   "execution_count": 42,
   "metadata": {},
   "outputs": [
    {
     "name": "stdout",
     "output_type": "stream",
     "text": [
      "1 2 3 4 5 "
     ]
    }
   ],
   "source": [
    "a=1\n",
    "while a<=5:\n",
    "    print(a,end=' ')\n",
    "    a+=1"
   ]
  },
  {
   "cell_type": "code",
   "execution_count": 38,
   "metadata": {},
   "outputs": [
    {
     "name": "stdout",
     "output_type": "stream",
     "text": [
      "325\n"
     ]
    }
   ],
   "source": [
    "num=int(input())\n",
    "n=1\n",
    "total=0\n",
    "while n<=num:\n",
    "    total+=n\n",
    "    n+=1\n",
    "print(total)"
   ]
  },
  {
   "cell_type": "code",
   "execution_count": 60,
   "metadata": {},
   "outputs": [
    {
     "name": "stdout",
     "output_type": "stream",
     "text": [
      "1 8 27 64 125 216 343 512 729 1000 "
     ]
    }
   ],
   "source": [
    "num=int(input())\n",
    "n=1\n",
    "total=0\n",
    "while n<=num:\n",
    "    total=n**3\n",
    "    n+=1\n",
    "    print(total,end=' ')"
   ]
  },
  {
   "cell_type": "code",
   "execution_count": 50,
   "metadata": {},
   "outputs": [
    {
     "name": "stdout",
     "output_type": "stream",
     "text": [
      "100 101 102 103 "
     ]
    }
   ],
   "source": [
    "a=100\n",
    "b=103\n",
    "while a<=b:\n",
    "    print(a,end=' ')\n",
    "    a+=1"
   ]
  },
  {
   "cell_type": "code",
   "execution_count": 49,
   "metadata": {},
   "outputs": [
    {
     "name": "stdout",
     "output_type": "stream",
     "text": [
      "-5 -4 -3 -2 -1 0 1 2 "
     ]
    }
   ],
   "source": [
    "a=-5\n",
    "b=2\n",
    "while a<=b:\n",
    "    print(a,end=' ')\n",
    "    a+=1"
   ]
  },
  {
   "cell_type": "code",
   "execution_count": 52,
   "metadata": {},
   "outputs": [
    {
     "name": "stdout",
     "output_type": "stream",
     "text": [
      "-4 -3 -2 -1 0 1 2 3 "
     ]
    }
   ],
   "source": [
    "a=-5\n",
    "b=2\n",
    "while a<=b:\n",
    "    a+=1\n",
    "    print(a,end=' ')"
   ]
  },
  {
   "cell_type": "code",
   "execution_count": 84,
   "metadata": {},
   "outputs": [
    {
     "name": "stdout",
     "output_type": "stream",
     "text": [
      "5 10 15 20 25 30 "
     ]
    }
   ],
   "source": [
    "num1=5\n",
    "num2=30\n",
    "total=0\n",
    "i=0\n",
    "while total<num2:\n",
    "    total+=num1\n",
    "    print(total,end=' ')\n",
    "    i+=1"
   ]
  },
  {
   "cell_type": "code",
   "execution_count": 96,
   "metadata": {},
   "outputs": [
    {
     "name": "stdout",
     "output_type": "stream",
     "text": [
      "12  \n",
      "14  \n",
      "16  \n",
      "18  \n",
      "20  \n",
      "22  \n"
     ]
    }
   ],
   "source": [
    "a=10\n",
    "b=22\n",
    "total=10\n",
    "i=0\n",
    "while total<b:\n",
    "    total+=2\n",
    "    print(total,' ')\n",
    "    i+=1"
   ]
  },
  {
   "cell_type": "code",
   "execution_count": 100,
   "metadata": {},
   "outputs": [
    {
     "name": "stdout",
     "output_type": "stream",
     "text": [
      "10 "
     ]
    }
   ],
   "source": [
    "num=int(input())\n",
    "result=0\n",
    "n=0\n",
    "while result<=n:\n",
    "    result+=num*2\n",
    "    print(result,end=' ')\n",
    "n+=1"
   ]
  },
  {
   "cell_type": "code",
   "execution_count": 122,
   "metadata": {},
   "outputs": [
    {
     "name": "stdout",
     "output_type": "stream",
     "text": [
      "3 0\n",
      "2 0\n",
      "1 0\n"
     ]
    }
   ],
   "source": [
    "i=3\n",
    "while(i>0):\n",
    "    j=0\n",
    "    while(j<=3):\n",
    "        break\n",
    "    print(i,j)\n",
    "    j+=1\n",
    "    i-=1"
   ]
  },
  {
   "cell_type": "code",
   "execution_count": null,
   "metadata": {},
   "outputs": [],
   "source": [
    "i=0\n",
    "j=0\n",
    "while i<3:\n",
    "    j=0\n",
    "    while j<3:\n",
    "        if(j==2):\n",
    "            break\n",
    "        print(i,j)\n",
    "        i+=1\n",
    "    i+=1\n",
    "    if i==1:\n",
    "        break\n",
    "    if((i==0 or i==1) and (j==1)):\n",
    "        break"
   ]
  },
  {
   "cell_type": "code",
   "execution_count": 135,
   "metadata": {},
   "outputs": [
    {
     "ename": "KeyboardInterrupt",
     "evalue": "",
     "output_type": "error",
     "traceback": [
      "\u001b[1;31m---------------------------------------------------------------------------\u001b[0m",
      "\u001b[1;31mKeyboardInterrupt\u001b[0m                         Traceback (most recent call last)",
      "\u001b[1;32mc:\\Users\\Varun K S\\Downloads\\day2 python assignment-1.ipynb Cell 191\u001b[0m line \u001b[0;36m5\n\u001b[0;32m      <a href='vscode-notebook-cell:/c%3A/Users/Varun%20K%20S/Downloads/day2%20python%20assignment-1.ipynb#Y401sZmlsZQ%3D%3D?line=2'>3</a>\u001b[0m \u001b[39mwhile\u001b[39;00m j\u001b[39m<\u001b[39m\u001b[39m+\u001b[39m\u001b[39m3\u001b[39m:\n\u001b[0;32m      <a href='vscode-notebook-cell:/c%3A/Users/Varun%20K%20S/Downloads/day2%20python%20assignment-1.ipynb#Y401sZmlsZQ%3D%3D?line=3'>4</a>\u001b[0m     i\u001b[39m=\u001b[39m\u001b[39m0\u001b[39m\n\u001b[1;32m----> <a href='vscode-notebook-cell:/c%3A/Users/Varun%20K%20S/Downloads/day2%20python%20assignment-1.ipynb#Y401sZmlsZQ%3D%3D?line=4'>5</a>\u001b[0m     \u001b[39mwhile\u001b[39;00m(j\u001b[39m<\u001b[39m\u001b[39m=\u001b[39m\u001b[39m3\u001b[39m):\n\u001b[0;32m      <a href='vscode-notebook-cell:/c%3A/Users/Varun%20K%20S/Downloads/day2%20python%20assignment-1.ipynb#Y401sZmlsZQ%3D%3D?line=5'>6</a>\u001b[0m         \u001b[39mif\u001b[39;00m(j\u001b[39m==\u001b[39m\u001b[39m1\u001b[39m):\n\u001b[0;32m      <a href='vscode-notebook-cell:/c%3A/Users/Varun%20K%20S/Downloads/day2%20python%20assignment-1.ipynb#Y401sZmlsZQ%3D%3D?line=6'>7</a>\u001b[0m             \u001b[39mprint\u001b[39m(i,j)\n",
      "\u001b[1;31mKeyboardInterrupt\u001b[0m: "
     ]
    }
   ],
   "source": [
    "i=0\n",
    "j=0\n",
    "while j<+3:\n",
    "    i=0\n",
    "    while(j<=3):\n",
    "        if(j==1):\n",
    "            print(i,j)\n",
    "            j+=1\n"
   ]
  },
  {
   "cell_type": "code",
   "execution_count": 134,
   "metadata": {},
   "outputs": [
    {
     "name": "stdout",
     "output_type": "stream",
     "text": [
      "1\n",
      "2\n",
      "3\n",
      "4\n",
      "5\n"
     ]
    }
   ],
   "source": [
    "i=sum=0\n",
    "while i<=4:\n",
    "    sum+=1\n",
    "    i=i+1\n",
    "    print(sum)"
   ]
  },
  {
   "cell_type": "code",
   "execution_count": 144,
   "metadata": {},
   "outputs": [
    {
     "name": "stdout",
     "output_type": "stream",
     "text": [
      "P Y T H O N   S T R I N G "
     ]
    }
   ],
   "source": [
    "for char in 'PYTHON STRING':\n",
    "    if char=='':\n",
    "        break\n",
    "    print(char,end=' ')\n",
    "    if char=='O':\n",
    "        continue"
   ]
  },
  {
   "cell_type": "code",
   "execution_count": 19,
   "metadata": {},
   "outputs": [],
   "source": [
    "even=False\n",
    "if even == True:\n",
    "    print('D')"
   ]
  },
  {
   "cell_type": "code",
   "execution_count": 160,
   "metadata": {},
   "outputs": [
    {
     "name": "stdout",
     "output_type": "stream",
     "text": [
      "75\n",
      "sorry, better luck next time\n"
     ]
    }
   ],
   "source": [
    "import random\n",
    "var=random.randint(1,100)\n",
    "a=int(input())\n",
    "if a==var:\n",
    "    print(var)\n",
    "    print('you got it right')\n",
    "else:\n",
    "    print(var)\n",
    "    print('sorry, better luck next time')"
   ]
  },
  {
   "cell_type": "code",
   "execution_count": 6,
   "metadata": {},
   "outputs": [],
   "source": [
    "x=1;y=-1;z=1\n",
    "if x>0:\n",
    "    if y>0:\n",
    "        print('x>0 and y>0')\n",
    "elif z>0:\n",
    "    print('x<0 and z>0')"
   ]
  },
  {
   "cell_type": "code",
   "execution_count": 11,
   "metadata": {},
   "outputs": [
    {
     "name": "stdout",
     "output_type": "stream",
     "text": [
      "too hot\n"
     ]
    }
   ],
   "source": [
    "temp=int(input())\n",
    "if temp>=100:\n",
    "    print('too hot')\n",
    "elif temp<=40:\n",
    "    print('too cold')\n",
    "else:\n",
    "    print('just right')\n"
   ]
  },
  {
   "cell_type": "code",
   "execution_count": 15,
   "metadata": {},
   "outputs": [
    {
     "name": "stdout",
     "output_type": "stream",
     "text": [
      "num is not div by 3 & 4\n"
     ]
    }
   ],
   "source": [
    "num=int(input())\n",
    "if(num%3==0 and num%4==0):\n",
    "    print('num is div by 3 & 4')\n",
    "else:\n",
    "    print('num is not div by 3 & 4')"
   ]
  },
  {
   "cell_type": "code",
   "execution_count": 22,
   "metadata": {},
   "outputs": [
    {
     "name": "stdout",
     "output_type": "stream",
     "text": [
      "Welcome to the Number Guessing Game!\n",
      "I'm thinking of a number between 1 and 100. You have 5 attempts.\n",
      "Too low! Try a higher number.\n",
      "Too high! Try a lower number.\n",
      "Too high! Try a lower number.\n",
      "Too low! Try a higher number.\n",
      "Too low! Try a higher number.\n",
      "Oops! You've reached the maximum number of attempts.\n",
      "The number I was thinking of was: 54\n"
     ]
    }
   ],
   "source": [
    "import random\n",
    "\n",
    "    # Generate a random number between 1 and 100\n",
    "random_number = random.randint(1, 100)\n",
    "attempts = 0\n",
    "max_attempts = 5 \n",
    "\n",
    "print(\"Welcome to the Number Guessing Game!\")\n",
    "print(\"I'm thinking of a number between 1 and 100. You have\", max_attempts, \"attempts.\")\n",
    "\n",
    "while attempts < max_attempts:\n",
    "    guess = int(input(\"Enter your guess: \"))\n",
    "    \n",
    "    if guess < random_number:\n",
    "        print(\"Too low! Try a higher number.\")\n",
    "    elif guess > random_number:\n",
    "        print(\"Too high! Try a lower number.\")\n",
    "    else:\n",
    "        print(\"Congratulations! You guessed the number in\", attempts + 1, \"attempts.\")\n",
    "        break\n",
    "    attempts += 1\n",
    "\n",
    "    if attempts == max_attempts:\n",
    "        print(\"Oops! You've reached the maximum number of attempts.\")\n",
    "        print(\"The number I was thinking of was:\", random_number)\n"
   ]
  },
  {
   "cell_type": "code",
   "execution_count": 35,
   "metadata": {},
   "outputs": [
    {
     "name": "stdout",
     "output_type": "stream",
     "text": [
      "num1 is greater than random_num\n"
     ]
    }
   ],
   "source": [
    "import random\n",
    "random_num=random.randint(1,100)\n",
    "num1=int(input())\n",
    "if num1==random_num:\n",
    "    print('your guess is right')\n",
    "elif num1>random_num:\n",
    "        print('num1 is greater than random_num')\n",
    "else:\n",
    "     print('num1 is lesser than random_num')\n",
    "\n"
   ]
  },
  {
   "cell_type": "code",
   "execution_count": 45,
   "metadata": {},
   "outputs": [
    {
     "name": "stdout",
     "output_type": "stream",
     "text": [
      "00\n",
      "01\n",
      "02\n",
      "03\n",
      "30\n",
      "31\n",
      "32\n",
      "33\n"
     ]
    }
   ],
   "source": [
    "i=0\n",
    "j=0\n",
    "while i<=3:\n",
    "    while j<=3:\n",
    "        print(i,j,sep='')\n",
    "        j+=1\n",
    "    i+=3\n",
    "    j=0"
   ]
  },
  {
   "cell_type": "code",
   "execution_count": 53,
   "metadata": {},
   "outputs": [
    {
     "name": "stdout",
     "output_type": "stream",
     "text": [
      "0 0\n",
      "0 1\n",
      "0 2\n",
      "1 0\n",
      "1 1\n",
      "1 2\n",
      "2 0\n",
      "2 1\n",
      "2 2\n"
     ]
    }
   ],
   "source": [
    "for i in range(3):\n",
    "    for j in range(3):\n",
    "        print(i,j)"
   ]
  },
  {
   "cell_type": "code",
   "execution_count": 54,
   "metadata": {},
   "outputs": [
    {
     "name": "stdout",
     "output_type": "stream",
     "text": [
      "4 1\n",
      "4 2\n",
      "4 3\n",
      "2 1\n",
      "2 2\n",
      "2 3\n"
     ]
    }
   ],
   "source": [
    "for i in range(4,1,-2):\n",
    "    for j in range(1,4):\n",
    "        print(i,j)"
   ]
  },
  {
   "cell_type": "code",
   "execution_count": 59,
   "metadata": {},
   "outputs": [
    {
     "name": "stdout",
     "output_type": "stream",
     "text": [
      "4 3\n",
      "4 2\n",
      "4 1\n",
      "2 3\n",
      "2 2\n",
      "2 1\n"
     ]
    }
   ],
   "source": [
    "for i in range(4,1,-2):\n",
    "    for j in range(3,0,-1):\n",
    "        print(i,j)"
   ]
  },
  {
   "cell_type": "code",
   "execution_count": 62,
   "metadata": {},
   "outputs": [
    {
     "name": "stdout",
     "output_type": "stream",
     "text": [
      "1 2\n",
      "1 4\n",
      "1 6\n",
      "2 2\n",
      "2 4\n",
      "2 6\n"
     ]
    }
   ],
   "source": [
    "for i in range(1,3):\n",
    "    for j in range(2,7,2):\n",
    "        print(i,j)"
   ]
  },
  {
   "cell_type": "code",
   "execution_count": 63,
   "metadata": {},
   "outputs": [
    {
     "name": "stdout",
     "output_type": "stream",
     "text": [
      "-1 -1\n",
      "-1 -2\n",
      "-1 -3\n",
      "-2 -1\n",
      "-2 -2\n",
      "-2 -3\n"
     ]
    }
   ],
   "source": [
    "for i in range(-1,-3,-1):\n",
    "    for j in range(-1,-4,-1):\n",
    "        print(i,j)"
   ]
  },
  {
   "cell_type": "code",
   "execution_count": 64,
   "metadata": {},
   "outputs": [
    {
     "name": "stdout",
     "output_type": "stream",
     "text": [
      "0 0\n",
      "0 1\n",
      "0 2\n",
      "1 0\n",
      "1 1\n",
      "2 0\n",
      "2 1\n",
      "2 2\n"
     ]
    }
   ],
   "source": [
    "for i in range (3):\n",
    "    for j in range(3):\n",
    "        if (j==2 and (j==0 or i==1)):\n",
    "            break\n",
    "        print(i,j)"
   ]
  },
  {
   "cell_type": "code",
   "execution_count": 97,
   "metadata": {},
   "outputs": [
    {
     "name": "stdout",
     "output_type": "stream",
     "text": [
      "0 0\n",
      "0 1\n",
      "0 2\n",
      "1 0\n",
      "1 1\n",
      "2 0\n"
     ]
    }
   ],
   "source": [
    "for i in range (3):\n",
    "    for j in range(3):\n",
    "        if (i==1 and j==2) or (i==2 and (j==1 or j==2)):\n",
    "            break\n",
    "        print(i,j)"
   ]
  },
  {
   "cell_type": "code",
   "execution_count": 98,
   "metadata": {},
   "outputs": [
    {
     "name": "stdout",
     "output_type": "stream",
     "text": [
      "0 0\n",
      "1 0\n",
      "2 0\n"
     ]
    }
   ],
   "source": [
    "for i in range(3):\n",
    "    for j in range(3):\n",
    "        print(i,j)\n",
    "        break"
   ]
  },
  {
   "cell_type": "code",
   "execution_count": 100,
   "metadata": {},
   "outputs": [
    {
     "name": "stdout",
     "output_type": "stream",
     "text": [
      "0 0\n",
      "0 1\n",
      "0 2\n"
     ]
    }
   ],
   "source": [
    "for i in range(3):\n",
    "    for j in range(3):\n",
    "        print(i,j)\n",
    "    break"
   ]
  },
  {
   "cell_type": "code",
   "execution_count": 103,
   "metadata": {},
   "outputs": [
    {
     "name": "stdout",
     "output_type": "stream",
     "text": [
      "0 0\n"
     ]
    }
   ],
   "source": [
    "for i in range(3):\n",
    "    for j in range(3):\n",
    "        print(i,j)\n",
    "        break\n",
    "    break"
   ]
  },
  {
   "cell_type": "code",
   "execution_count": 104,
   "metadata": {},
   "outputs": [
    {
     "name": "stdout",
     "output_type": "stream",
     "text": [
      "0 0\n",
      "0 1\n",
      "0 2\n",
      "2 0\n",
      "2 1\n",
      "2 2\n"
     ]
    }
   ],
   "source": [
    "for i in range(3):\n",
    "    for j in range(3):\n",
    "        if(i==1):\n",
    "            continue\n",
    "        print(i,j)"
   ]
  },
  {
   "cell_type": "code",
   "execution_count": 105,
   "metadata": {},
   "outputs": [
    {
     "name": "stdout",
     "output_type": "stream",
     "text": [
      "0 0\n",
      "0 2\n",
      "1 0\n",
      "1 2\n",
      "2 0\n",
      "2 2\n"
     ]
    }
   ],
   "source": [
    "for i in range(3):\n",
    "    for j in range(3):\n",
    "        if(j==1):\n",
    "            continue\n",
    "        print(i,j)"
   ]
  },
  {
   "cell_type": "code",
   "execution_count": 106,
   "metadata": {},
   "outputs": [
    {
     "name": "stdout",
     "output_type": "stream",
     "text": [
      "0 0\n",
      "0 2\n",
      "1 0\n",
      "1 1\n",
      "1 2\n",
      "2 0\n",
      "2 2\n"
     ]
    }
   ],
   "source": [
    "for i in range(3):\n",
    "    for j in range(3):\n",
    "        if(i!=1 and j==1):\n",
    "            continue\n",
    "        print(i,j)"
   ]
  },
  {
   "cell_type": "code",
   "execution_count": 127,
   "metadata": {},
   "outputs": [
    {
     "name": "stdout",
     "output_type": "stream",
     "text": [
      "0 2\n",
      "1 0\n",
      "1 1\n",
      "1 2\n",
      "2 2\n"
     ]
    }
   ],
   "source": [
    "for i in range(3):\n",
    "    for j in range(3):\n",
    "        if ((i==0 or i==2) and (j==0 or j==1)):\n",
    "            continue\n",
    "        print(i,j)"
   ]
  },
  {
   "cell_type": "code",
   "execution_count": 133,
   "metadata": {},
   "outputs": [
    {
     "name": "stdout",
     "output_type": "stream",
     "text": [
      "number is not prime\n"
     ]
    }
   ],
   "source": [
    "count=0\n",
    "num=int(input())\n",
    "for i in range(2,num):\n",
    "    if (num%1==0):\n",
    "        count+=1\n",
    "if (count==0):\n",
    "    print('number is prime')\n",
    "else: print('number is not prime')"
   ]
  },
  {
   "cell_type": "code",
   "execution_count": 152,
   "metadata": {},
   "outputs": [
    {
     "name": "stdout",
     "output_type": "stream",
     "text": [
      "number is not prime\n"
     ]
    }
   ],
   "source": [
    "num=int(input())\n",
    "for i in range(2,num):\n",
    "    if num%i==0:\n",
    "        print('number is not prime')\n",
    "        break\n",
    "else:\n",
    "    print('number is prime')"
   ]
  },
  {
   "cell_type": "code",
   "execution_count": 156,
   "metadata": {},
   "outputs": [
    {
     "name": "stdout",
     "output_type": "stream",
     "text": [
      "111\n",
      "222\n"
     ]
    }
   ],
   "source": [
    "for i in range(1,3):\n",
    "    print(str(i)*3)"
   ]
  },
  {
   "cell_type": "code",
   "execution_count": 1,
   "metadata": {},
   "outputs": [
    {
     "data": {
      "text/plain": [
       "False"
      ]
     },
     "execution_count": 1,
     "metadata": {},
     "output_type": "execute_result"
    }
   ],
   "source": [
    "10==20"
   ]
  },
  {
   "cell_type": "code",
   "execution_count": 2,
   "metadata": {},
   "outputs": [
    {
     "data": {
      "text/plain": [
       "True"
      ]
     },
     "execution_count": 2,
     "metadata": {},
     "output_type": "execute_result"
    }
   ],
   "source": [
    "'2'<'9'"
   ]
  },
  {
   "cell_type": "code",
   "execution_count": 4,
   "metadata": {},
   "outputs": [
    {
     "data": {
      "text/plain": [
       "False"
      ]
     },
     "execution_count": 4,
     "metadata": {},
     "output_type": "execute_result"
    }
   ],
   "source": [
    "'Hello'=='hello'"
   ]
  },
  {
   "cell_type": "code",
   "execution_count": 5,
   "metadata": {},
   "outputs": [
    {
     "data": {
      "text/plain": [
       "True"
      ]
     },
     "execution_count": 5,
     "metadata": {},
     "output_type": "execute_result"
    }
   ],
   "source": [
    "'12'<'9'"
   ]
  },
  {
   "cell_type": "code",
   "execution_count": 6,
   "metadata": {},
   "outputs": [
    {
     "data": {
      "text/plain": [
       "True"
      ]
     },
     "execution_count": 6,
     "metadata": {},
     "output_type": "execute_result"
    }
   ],
   "source": [
    "10<=20"
   ]
  },
  {
   "cell_type": "code",
   "execution_count": 7,
   "metadata": {},
   "outputs": [
    {
     "data": {
      "text/plain": [
       "False"
      ]
     },
     "execution_count": 7,
     "metadata": {},
     "output_type": "execute_result"
    }
   ],
   "source": [
    "'12'>'9'"
   ]
  },
  {
   "cell_type": "code",
   "execution_count": 9,
   "metadata": {},
   "outputs": [
    {
     "data": {
      "text/plain": [
       "True"
      ]
     },
     "execution_count": 9,
     "metadata": {},
     "output_type": "execute_result"
    }
   ],
   "source": [
    "True or False"
   ]
  },
  {
   "cell_type": "code",
   "execution_count": 19,
   "metadata": {},
   "outputs": [
    {
     "name": "stdout",
     "output_type": "stream",
     "text": [
      "num is div by 3\n"
     ]
    }
   ],
   "source": [
    "num=int(input())\n",
    "if num%3==0:\n",
    "    print('num is div by 3')\n",
    "else:\n",
    "    print('num is not div by 3')"
   ]
  },
  {
   "cell_type": "code",
   "execution_count": 13,
   "metadata": {},
   "outputs": [
    {
     "name": "stdout",
     "output_type": "stream",
     "text": [
      "num is negative\n"
     ]
    }
   ],
   "source": [
    "num=int(input())\n",
    "if num<0:\n",
    "    print('num is negative')\n",
    "else:\n",
    "    print('num is positive')"
   ]
  },
  {
   "cell_type": "code",
   "execution_count": 15,
   "metadata": {},
   "outputs": [
    {
     "name": "stdout",
     "output_type": "stream",
     "text": [
      "a > b\n"
     ]
    }
   ],
   "source": [
    "a=int(input())\n",
    "b=int(input())\n",
    "if a>b:\n",
    "    print('a > b')\n",
    "else:\n",
    "    print('a < b')"
   ]
  },
  {
   "cell_type": "code",
   "execution_count": 29,
   "metadata": {},
   "outputs": [
    {
     "name": "stdout",
     "output_type": "stream",
     "text": [
      "Numbers are in mixed order.\n"
     ]
    }
   ],
   "source": [
    "def check_order(num1, num2, num3):\n",
    "    if num1 == num2 == num3:\n",
    "        print(\"All three numbers are equal.\")\n",
    "    elif num1 <= num2 <= num3:\n",
    "        print(\"Numbers are in ascending order.\")\n",
    "    elif num1 >= num2 >= num3:\n",
    "        print(\"Numbers are in descending order.\")\n",
    "    else:\n",
    "        print(\"Numbers are in mixed order.\")\n",
    "\n",
    "# Example:\n",
    "input_num1 = int(input(\"Enter first number: \"))\n",
    "input_num2 = int(input(\"Enter second number: \"))\n",
    "input_num3 = int(input(\"Enter third number: \"))\n",
    "check_order(input_num1, input_num2, input_num3)\n"
   ]
  },
  {
   "cell_type": "code",
   "execution_count": 33,
   "metadata": {},
   "outputs": [
    {
     "name": "stdout",
     "output_type": "stream",
     "text": [
      "p+q+r is greater than s.\n"
     ]
    }
   ],
   "source": [
    "def compare_numbers(p, q, r, s):\n",
    "    if p + q == r + s:\n",
    "        print(\"p+q is equal to r+s.\")\n",
    "    elif p + q + r > s:\n",
    "        print(\"p+q+r is greater than s.\")\n",
    "    elif p + q > r + s:\n",
    "        print(\"p+q is greater than r+s.\")\n",
    "    else:\n",
    "        print(\"p+q is less than r+s.\")\n",
    "\n",
    "# Example:\n",
    "input_p = int(input(\"Enter value for p: \"))\n",
    "input_q = int(input(\"Enter value for q: \"))\n",
    "input_r = int(input(\"Enter value for r: \"))\n",
    "input_s = int(input(\"Enter value for s: \"))\n",
    "compare_numbers(input_p, input_q, input_r, input_s)\n"
   ]
  },
  {
   "cell_type": "code",
   "execution_count": 37,
   "metadata": {},
   "outputs": [
    {
     "name": "stdout",
     "output_type": "stream",
     "text": [
      "0 1 2 3 4 5 6 0246810124816321357911100 101 102 103 543210-1-2-4-3-2-10123123\n",
      "5 10 15 20 25 30 10 12 14 16 18 20 22 9 11 13 15 17 135791120 24 28 32 36 40 10987654321-3-5-7-9-11-5--3--1-1-3-5-7-91 4 7 10 13 16 10 6 2 -2 -6 -10 "
     ]
    }
   ],
   "source": [
    "# 1. 0123456\n",
    "i = 0\n",
    "while i <= 6:\n",
    "    print(i, end=' ',sep=\"\")\n",
    "    i += 1\n",
    "\n",
    "# 2. 0246810\n",
    "i = 0\n",
    "while i <= 10:\n",
    "    print(i, end=\"\")\n",
    "    i += 2\n",
    "\n",
    "# 3. 12481632\n",
    "i = 1\n",
    "while i <= 32:\n",
    "    print(i, end=\"\")\n",
    "    i *= 2\n",
    "\n",
    "# 4. 1357911\n",
    "i = 1\n",
    "while i <= 11:\n",
    "    print(i, end=\"\")\n",
    "    i += 2\n",
    "\n",
    "# 5. 100 101 102 103\n",
    "i = 100\n",
    "while i <= 103:\n",
    "    print(i, end=\" \")\n",
    "    i += 1\n",
    "\n",
    "# 6. 5-4-3-2-1012\n",
    "i = 5\n",
    "while i >= -2:\n",
    "    print(i, end=\"\")\n",
    "    i -= 1\n",
    "\n",
    "# 7. -4-3-2-10123\n",
    "i = -4\n",
    "while i <= 3:\n",
    "    print(i, end=\"\")\n",
    "    i += 1\n",
    "print(\"123\")\n",
    "\n",
    "# 8. 5 10 15 20 25 30\n",
    "i = 5\n",
    "while i <= 30:\n",
    "    print(i, end=\" \")\n",
    "    i += 5\n",
    "\n",
    "# 9. 10 12 14 16 18 20 22\n",
    "i = 10\n",
    "while i <= 22:\n",
    "    print(i, end=\" \")\n",
    "    i += 2\n",
    "\n",
    "# 10. 9 11 13 15 17\n",
    "i = 9\n",
    "while i <= 17:\n",
    "    print(i, end=\" \")\n",
    "    i += 2\n",
    "\n",
    "# 11. 1357911\n",
    "i = 1\n",
    "while i <= 11:\n",
    "    print(i, end=\"\")\n",
    "    i += 2\n",
    "\n",
    "# 12. 20 24 28 32 36 40\n",
    "i = 20\n",
    "while i <= 40:\n",
    "    print(i, end=\" \")\n",
    "    i += 4\n",
    "\n",
    "# 13. 1098765432\n",
    "i = 10\n",
    "while i >= 2:\n",
    "    print(i, end=\"\")\n",
    "    i -= 1\n",
    "\n",
    "# 14. 1-1-3-5-7-9-11\n",
    "i = 1\n",
    "while i <= 11:\n",
    "    print(i, end=\"\")\n",
    "    if i != 11:\n",
    "        print(\"-\", end=\"\")\n",
    "    i += 2\n",
    "\n",
    "# 15. -5-3-113579\n",
    "i = -5\n",
    "while i <= 9:\n",
    "    print(i, end=\"\")\n",
    "    if i != 9:\n",
    "        print(\"-\", end=\"\")\n",
    "    i += 2\n",
    "\n",
    "# 16. 1 4 7 10 13 16\n",
    "i = 1\n",
    "while i <= 16:\n",
    "    print(i, end=\" \")\n",
    "    i += 3\n",
    "\n",
    "# 17. 10 6 2-2-6-10\n",
    "i = 10\n",
    "while i >= -10:\n",
    "    print(i, end=\" \")\n",
    "    i -= 4\n"
   ]
  },
  {
   "cell_type": "code",
   "execution_count": 39,
   "metadata": {},
   "outputs": [
    {
     "name": "stdout",
     "output_type": "stream",
     "text": [
      "-4-3-2-10123"
     ]
    }
   ],
   "source": [
    "# 7. -4-3-2-10123\n",
    "i = -4\n",
    "while i <= 3:\n",
    "    print(i, end=\"\")\n",
    "    i += 1\n"
   ]
  },
  {
   "cell_type": "code",
   "execution_count": 40,
   "metadata": {},
   "outputs": [
    {
     "name": "stdout",
     "output_type": "stream",
     "text": [
      "The sum is 15\n"
     ]
    }
   ],
   "source": [
    "# Taking input from the user for the given number\n",
    "num = int(input(\"Enter a number: \"))\n",
    "\n",
    "# Initializing variables for sum and starting value\n",
    "total = 0\n",
    "i = 1\n",
    "\n",
    "# Using while loop to calculate the sum\n",
    "while i <= num:\n",
    "    total += i\n",
    "    i += 1\n",
    "\n",
    "print(f\"The sum is\",total)\n"
   ]
  },
  {
   "cell_type": "code",
   "execution_count": 44,
   "metadata": {},
   "outputs": [
    {
     "name": "stdout",
     "output_type": "stream",
     "text": [
      "5 * 1 is 5\n",
      "5 * 2 is 10\n",
      "5 * 3 is 15\n",
      "5 * 4 is 20\n",
      "5 * 5 is 25\n",
      "5 * 6 is 30\n",
      "5 * 7 is 35\n",
      "5 * 8 is 40\n",
      "5 * 9 is 45\n",
      "5 * 10 is 50\n"
     ]
    }
   ],
   "source": [
    "# Taking input from the user for the number to generate the table\n",
    "num = int(input(\"Enter a number to generate its multiplication table: \"))\n",
    "\n",
    "# Using while loop to print the multiplication table\n",
    "i = 1\n",
    "while i <= 10:\n",
    "    table= num * i\n",
    "    print(num,'*',i,'is',table)\n",
    "    i += 1\n"
   ]
  },
  {
   "cell_type": "code",
   "execution_count": 46,
   "metadata": {},
   "outputs": [
    {
     "name": "stdout",
     "output_type": "stream",
     "text": [
      "The sum of integers (excluding numbers > 100) is: 28\n"
     ]
    }
   ],
   "source": [
    "# Initializing variables\n",
    "total = 0\n",
    "count = 0\n",
    "\n",
    "# Getting input from the user and calculating sum\n",
    "while count < 5:\n",
    "    num = int(input(\"Enter a number: \"))\n",
    "    if num <= 100:\n",
    "        total += num\n",
    "        count += 1\n",
    "\n",
    "print(f\"The sum of integers (excluding numbers > 100) is: {total}\")"
   ]
  },
  {
   "cell_type": "code",
   "execution_count": 47,
   "metadata": {},
   "outputs": [
    {
     "name": "stdout",
     "output_type": "stream",
     "text": [
      "Number of positive numbers entered: 5\n",
      "Number of negative numbers entered: 5\n"
     ]
    }
   ],
   "source": [
    "# Initializing variables to count positive and negative numbers\n",
    "positive_count = 0\n",
    "negative_count = 0\n",
    "count = 0\n",
    "\n",
    "# Getting input from the user and counting positive and negative numbers\n",
    "while count < 10:\n",
    "    num = int(input(\"Enter an integer: \"))\n",
    "    if num > 0:\n",
    "        positive_count += 1\n",
    "    elif num < 0:\n",
    "        negative_count += 1\n",
    "    count += 1\n",
    "\n",
    "print(f\"Number of positive numbers entered: {positive_count}\")\n",
    "print(f\"Number of negative numbers entered: {negative_count}\")\n"
   ]
  },
  {
   "cell_type": "code",
   "execution_count": 52,
   "metadata": {},
   "outputs": [
    {
     "name": "stdout",
     "output_type": "stream",
     "text": [
      "3 9 27 81 243 "
     ]
    }
   ],
   "source": [
    "# Getting input from the user for n\n",
    "n = int(input(\"Enter a number: \"))\n",
    "\n",
    "# Initializing the starting number and exponent\n",
    "result = 13\n",
    "exponent = 1\n",
    "\n",
    "# Using a while loop to generate the sequence\n",
    "while result <= n:\n",
    "    \n",
    "    result = 3 ** exponent\n",
    "    print(result, end=\" \")\n",
    "    exponent += 1\n"
   ]
  },
  {
   "cell_type": "code",
   "execution_count": 86,
   "metadata": {},
   "outputs": [
    {
     "name": "stdout",
     "output_type": "stream",
     "text": [
      "2 is unary operator\n",
      "5 is unary operator\n"
     ]
    }
   ],
   "source": [
    "operator1 = input(\"Enter the first operator: \")\n",
    "operator2 = input(\"Enter the second operator: \")\n",
    "binary_operators = ('add', 'sub', 'mult', 'div', 'mod', 'exp', 'shle', 'shri', 'ones', 'logand', 'logor', 'lognot')\n",
    "if operator1 in binary_operators:\n",
    "    print(operator1 ,\" is a binary operator\")\n",
    "else:\n",
    "    print(operator1,'is unary operator')\n",
    "if operator2 in binary_operators:\n",
    "    print(operator2 ,\" is a binary operator\")\n",
    "else:\n",
    "    print(operator2,'is unary operator')\n"
   ]
  },
  {
   "cell_type": "code",
   "execution_count": 117,
   "metadata": {},
   "outputs": [
    {
     "name": "stdout",
     "output_type": "stream",
     "text": [
      "5 False\n"
     ]
    }
   ],
   "source": [
    "operator = input(\"Enter the operator: \")\n",
    "binary_operators = ('add', 'sub', 'mult', 'div', 'mod', 'exp', 'shle', 'shri', 'ones', 'logand', 'logor', 'lognot')\n",
    "if operator in binary_operators:\n",
    "    operand1=int(input())\n",
    "    operand2=int(input())\n",
    "    if operator=='add':\n",
    "        print(operand1 + operand2)\n",
    "    elif operator=='sub':\n",
    "        print(operand1 - operand2)\n",
    "    elif operator=='mult':\n",
    "        print(operand1 * operand2)\n",
    "    elif operator=='div':\n",
    "        print(operand1 / operand2)\n",
    "    elif operator=='mod':\n",
    "        print(operand1 % operand2)\n",
    "    elif operator=='exp':\n",
    "        print(operand1 ** operand2)\n",
    "    elif operator=='shle':\n",
    "        print(operand1 << operand2)\n",
    "    elif operator=='shri':\n",
    "        print(operand1 >> operand2)\n",
    "    elif operator=='logand':\n",
    "        print(operand1 and operand2)\n",
    "    elif operator=='logor':\n",
    "        print(operand1 or operand2)\n",
    "    elif operator=='lognot':\n",
    "        print(operand1 =~ operand2)\n",
    "else:\n",
    "    print('unary')\n",
    "    "
   ]
  },
  {
   "cell_type": "code",
   "execution_count": 148,
   "metadata": {},
   "outputs": [
    {
     "name": "stdout",
     "output_type": "stream",
     "text": [
      "rogr Bang\n",
      "gram glore\n",
      "mming Bao\n",
      "Promin analre\n",
      "rorami Bangore\n",
      "Prgrmm\n",
      "ProgBang\n",
      "BangProg\n",
      "mmingBang\n",
      "loreProg\n"
     ]
    }
   ],
   "source": [
    "s1='Programming';s2='Banglore'\n",
    "print(s1[1:5],s2[:4])\n",
    "print(s1[3:7],s2[3:8])\n",
    "print(s1[6:],s2[:2]+s2[5])\n",
    "print(s1[:3]+s1[7:10],s2[1:3]+s2[1]+s2[4]+s2[6:])\n",
    "print(s1[1:3]+s1[4:6]+s1[7:9],s2[:4]+s2[5:])\n",
    "print(s1[:2]+s1[3:5]+s1[6:8])\n",
    "print(s1[:4]+s2[:4])\n",
    "print(s2[:4]+s1[:4])\n",
    "print(s1[6:]+s2[:4])\n",
    "print(s2[4:]+s1[:4])"
   ]
  },
  {
   "cell_type": "code",
   "execution_count": 153,
   "metadata": {},
   "outputs": [
    {
     "name": "stdout",
     "output_type": "stream",
     "text": [
      "                                                                                         *\n",
      "                                                                                        **\n",
      "                                                                                       ***\n",
      "                                                                                      ****\n"
     ]
    }
   ],
   "source": [
    "for i in range(1,5):\n",
    "    print(' '*(n-i),end='')\n",
    "    print('*'*i)"
   ]
  },
  {
   "cell_type": "code",
   "execution_count": 156,
   "metadata": {},
   "outputs": [
    {
     "name": "stdout",
     "output_type": "stream",
     "text": [
      "                                                                                         *                                                                                        **                                                                                       ***                                                                                      ****"
     ]
    }
   ],
   "source": [
    "for i in range(1,5):\n",
    "    for j in range(n-i):\n",
    "        print(' ',end='')\n",
    "    for i in range(i):\n",
    "        print('*',end='')"
   ]
  },
  {
   "cell_type": "code",
   "execution_count": 158,
   "metadata": {},
   "outputs": [
    {
     "name": "stdout",
     "output_type": "stream",
     "text": [
      "****\n",
      " ***\n",
      "  **\n",
      "   *\n"
     ]
    }
   ],
   "source": [
    "n=4\n",
    "for i in range(4,0,-1):\n",
    "    print(' '*(n-i),end='')\n",
    "    print('*'*i)"
   ]
  },
  {
   "cell_type": "code",
   "execution_count": 162,
   "metadata": {},
   "outputs": [
    {
     "name": "stdout",
     "output_type": "stream",
     "text": [
      "A\n",
      "AB\n",
      "ABC\n",
      "ABCD\n"
     ]
    }
   ],
   "source": [
    "str='ABCD'\n",
    "for i in range(1,5):\n",
    "    for i in range(i):\n",
    "        print(str[i],end='')\n",
    "    print()"
   ]
  },
  {
   "cell_type": "code",
   "execution_count": 165,
   "metadata": {},
   "outputs": [
    {
     "name": "stdout",
     "output_type": "stream",
     "text": [
      "   *\n",
      "  **\n",
      " ***\n",
      "****\n"
     ]
    }
   ],
   "source": [
    "n=4\n",
    "for i in range(1,5):\n",
    "    print(' '*(n-i),end='')\n",
    "    print('*'*i)"
   ]
  },
  {
   "cell_type": "code",
   "execution_count": 179,
   "metadata": {},
   "outputs": [
    {
     "name": "stdout",
     "output_type": "stream",
     "text": [
      "5\n"
     ]
    }
   ],
   "source": [
    "a=int(input())\n",
    "b=int(input())\n",
    "while(b>0):\n",
    "    a,b=b,a%b\n",
    "    print(a)"
   ]
  },
  {
   "cell_type": "code",
   "execution_count": 176,
   "metadata": {},
   "outputs": [
    {
     "name": "stdout",
     "output_type": "stream",
     "text": [
      "LCM : 99\n"
     ]
    }
   ],
   "source": [
    "a=int(input())\n",
    "b=int(input())\n",
    "LCM=0\n",
    "r=a if a>b else b\n",
    "while(1):\n",
    "    if (r%a==0 and r%b==0):\n",
    "        LCM=r\n",
    "        break\n",
    "    else:\n",
    "        r+=1\n",
    "print('LCM :',LCM) "
   ]
  },
  {
   "cell_type": "code",
   "execution_count": null,
   "metadata": {},
   "outputs": [],
   "source": []
  }
 ],
 "metadata": {
  "kernelspec": {
   "display_name": "Python 3",
   "language": "python",
   "name": "python3"
  },
  "language_info": {
   "codemirror_mode": {
    "name": "ipython",
    "version": 3
   },
   "file_extension": ".py",
   "mimetype": "text/x-python",
   "name": "python",
   "nbconvert_exporter": "python",
   "pygments_lexer": "ipython3",
   "version": "3.11.4"
  },
  "orig_nbformat": 4
 },
 "nbformat": 4,
 "nbformat_minor": 2
}
